{
  "cells": [
    {
      "cell_type": "markdown",
      "metadata": {
        "id": "view-in-github",
        "colab_type": "text"
      },
      "source": [
        "<a href=\"https://colab.research.google.com/github/Habeebhassan/Online_Fraud_Detection/blob/main/Fraud_Detection_for_Online_Payment_Platform.ipynb\" target=\"_parent\"><img src=\"https://colab.research.google.com/assets/colab-badge.svg\" alt=\"Open In Colab\"/></a>"
      ]
    },
    {
      "cell_type": "markdown",
      "source": [
        "**Introduction**\n",
        "\n",
        "Online transactions have become increasingly popular, and this trend is expected to continue in the future, according to various surveys and research. However, this growth has also led to an increase in fraudulent transactions. Despite the implementation of various security systems, a significant amount of money is still being lost due to fraudulent transactions. Online fraud transactions occur when a person uses someone else’s credit card for personal reasons without the owner or the card-issuing authorities being aware of it. This project aims to address this issue."
      ],
      "metadata": {
        "id": "ax_2fsMwePKe"
      }
    },
    {
      "cell_type": "markdown",
      "source": [
        "**Project Scope**\n",
        "\n",
        "The Online Fraud Transaction Detection System is an extension of an existing system. The algorithms built using this system will go through the dataset and provide the appropriate output. In the long run, this system will be beneficial as it provides an efficient way to create a secure transaction system to analyze and detect fraudulent transactions. The Proposed algorithm algorithm used in this project is XGBOOST. Xgboost algorithm is a popular and efficient open-source implementation of the gradient boosted trees algorithm. Gradient boosting is a supervised learning algorithm that attempts to accurately predict a target variable by combining the estimates of a set of simpler, weaker models. This accuracy can be increased further by providing a huge dataset for model training. The scope of this application is far-reaching, and it can be used to detect the features of fraud transactions in datasets that are applicable in various sectors such as banking, insurance, e-commerce, money transfer, bill payments, etc. This will help increase security."
      ],
      "metadata": {
        "id": "-z-gIr9ZeITr"
      }
    },
    {
      "cell_type": "markdown",
      "source": [
        "**Work Flow**\n",
        "\n",
        "- Load DataSet\n",
        "- Data Preprocessing\n",
        "- Feature Selection/Feature Engineering\n",
        "- Classification\n",
        "- XGboost Model Training\n",
        "- Prediction\n",
        "- Evaluation\n",
        "\n",
        "After preprocessing and feature engineering is done, I'll divide the data into two sets: a training set and a separate test set that will be used exclusively at the final stage of model development. This ensures an unbiased assessment of the model's performance on entirely new data.\n",
        "\n",
        "Next, I'll go through the following steps to construct and assess the model:\n",
        "\n",
        "Hyperparameter Tuning with Cross Validation: Given the considerable number of hyperparameters in XGBoost, I'll employ Bayesian hyperparameter tuning. This approach is more efficient compared to grid or random search. I'll use (stratified) K-fold cross validation to identify the combination of hyperparameters that yields the highest cross-validated Conditional Recall score.\n",
        "\n",
        "Determining Thresholds: The refined classifier from step one can assign a probability score to any given example. To classify an example, a probability threshold must be chosen. This threshold separates positive (fraud) and negative examples. While the standard practice is to set the threshold at 0.5, I'll explore empirical thresholding to strike a balance between precision and recall. This may lead to a higher recall rate by selecting an appropriate classification threshold.\n",
        "\n",
        "Training and Testing: Using the entire training set, I'll train the model and then assess its performance on the test set using the discussed Conditional Recall metric.\n",
        "\n",
        "Additionally, I'll conclude by comparing the performance of this model with a few other algorithms. While the ideal approach would involve nested cross-validation for comparing different models (e.g., XGBoost vs. Logistic Regression), this is computationally demanding. Therefore, I'll report the performance of these models based on a single test set.\n",
        "\n",
        "\n",
        "\n",
        "\n"
      ],
      "metadata": {
        "id": "nxWGjyfHfNXs"
      }
    },
    {
      "cell_type": "markdown",
      "source": [
        "**Proposed Algorithm**\n",
        "\n",
        "The XGBoost algorithm, short for Extreme Gradient Boosting, is a powerful implementation of the gradient boosting method. Gradient boosting is an ensemble learning technique that sequentially trains simple models, often shallow decision trees, with a focus on areas of the data that haven't been well predicted so far. The final prediction of the model is a weighted combination of these weak learners. XGBoost has demonstrated remarkable effectiveness in various regression and classification tasks.\n",
        "\n",
        "For this task, I'll employ the XGBClassifier class from the xgboost package's Python API. This classifier utilizes the Extreme Gradient Boosting algorithm to optimize a specified loss function. In this case, I'll be using a logistic loss function, which is also the default choice in xgboost for two-class classification tasks."
      ],
      "metadata": {
        "id": "_0qd0HAS4_2y"
      }
    },
    {
      "cell_type": "markdown",
      "source": [
        "**Bayesian Hyper-parameter Optimization**\n",
        "\n",
        "Bayesian hyper-parameter optimization commences by assuming a prior distribution for the model's parameters. In each iteration, it seeks to glean insights from previously assessed parameter values, updating this distribution to select values more likely to yield high scores in future trials. This stands in contrast to random and grid search methods, which explore the parameter space without leveraging past trials for guidance. As a result, Bayesian hyper-parameter tuning has demonstrated superior efficiency compared to both random search and grid search, particularly in scenarios where evaluating the objective function is resource-intensive and time-consuming, or when dealing with a high-dimensional parameter-space.\n",
        "\n",
        "In the visual representation, the grey dots represent results from random search, while the green dots depict outcomes from Bayesian optimization (utilizing the Tree Parzen Estimator or TPE). Each dot signifies the lowest validation set error achieved within a specific number of trials for the respective method. It's evident that Bayesian optimization outperforms random search, and it does so with fewer iterations.\n",
        "\n",
        "\n",
        "\n",
        "\n"
      ],
      "metadata": {
        "id": "1YxQLJm22342"
      }
    },
    {
      "cell_type": "markdown",
      "source": [
        "**Optimizing Hyperparameters Using Hyperopt**\n",
        "\n",
        "For fine-tuning the model's hyperparameters, I'll employ the Hyperopt package, which employs Bayesian optimization technique"
      ],
      "metadata": {
        "id": "cuJJ3Pvx3bBg"
      }
    },
    {
      "cell_type": "code",
      "execution_count": 1,
      "metadata": {
        "colab": {
          "base_uri": "https://localhost:8080/"
        },
        "id": "vn-E5CYMjIOZ",
        "outputId": "44d19afb-6303-4459-ac8b-a27b8c06cb8c"
      },
      "outputs": [
        {
          "output_type": "stream",
          "name": "stdout",
          "text": [
            "Installing necessary libraries\n",
            "Collecting pyforest\n",
            "  Downloading pyforest-1.1.0.tar.gz (15 kB)\n",
            "  Preparing metadata (setup.py) ... \u001b[?25l\u001b[?25hdone\n",
            "Building wheels for collected packages: pyforest\n",
            "  Building wheel for pyforest (setup.py) ... \u001b[?25l\u001b[?25hdone\n",
            "  Created wheel for pyforest: filename=pyforest-1.1.0-py2.py3-none-any.whl size=14605 sha256=ec97741faa137291ad23739c37a3e0480ac73542bbee436944e6839c1e7dc084\n",
            "  Stored in directory: /root/.cache/pip/wheels/9e/7d/2c/5d2f5e62de376c386fd3bf5a8e5bd119ace6a9f48f49df6017\n",
            "Successfully built pyforest\n",
            "Installing collected packages: pyforest\n",
            "Successfully installed pyforest-1.1.0\n",
            "Collecting category_encoders\n",
            "  Downloading category_encoders-2.6.2-py2.py3-none-any.whl (81 kB)\n",
            "\u001b[2K     \u001b[90m━━━━━━━━━━━━━━━━━━━━━━━━━━━━━━━━━━━━━━━\u001b[0m \u001b[32m81.8/81.8 kB\u001b[0m \u001b[31m841.8 kB/s\u001b[0m eta \u001b[36m0:00:00\u001b[0m\n",
            "\u001b[?25hRequirement already satisfied: numpy>=1.14.0 in /usr/local/lib/python3.10/dist-packages (from category_encoders) (1.23.5)\n",
            "Requirement already satisfied: scikit-learn>=0.20.0 in /usr/local/lib/python3.10/dist-packages (from category_encoders) (1.2.2)\n",
            "Requirement already satisfied: scipy>=1.0.0 in /usr/local/lib/python3.10/dist-packages (from category_encoders) (1.11.2)\n",
            "Requirement already satisfied: statsmodels>=0.9.0 in /usr/local/lib/python3.10/dist-packages (from category_encoders) (0.14.0)\n",
            "Requirement already satisfied: pandas>=1.0.5 in /usr/local/lib/python3.10/dist-packages (from category_encoders) (1.5.3)\n",
            "Requirement already satisfied: patsy>=0.5.1 in /usr/local/lib/python3.10/dist-packages (from category_encoders) (0.5.3)\n",
            "Requirement already satisfied: python-dateutil>=2.8.1 in /usr/local/lib/python3.10/dist-packages (from pandas>=1.0.5->category_encoders) (2.8.2)\n",
            "Requirement already satisfied: pytz>=2020.1 in /usr/local/lib/python3.10/dist-packages (from pandas>=1.0.5->category_encoders) (2023.3.post1)\n",
            "Requirement already satisfied: six in /usr/local/lib/python3.10/dist-packages (from patsy>=0.5.1->category_encoders) (1.16.0)\n",
            "Requirement already satisfied: joblib>=1.1.1 in /usr/local/lib/python3.10/dist-packages (from scikit-learn>=0.20.0->category_encoders) (1.3.2)\n",
            "Requirement already satisfied: threadpoolctl>=2.0.0 in /usr/local/lib/python3.10/dist-packages (from scikit-learn>=0.20.0->category_encoders) (3.2.0)\n",
            "Requirement already satisfied: packaging>=21.3 in /usr/local/lib/python3.10/dist-packages (from statsmodels>=0.9.0->category_encoders) (23.1)\n",
            "Installing collected packages: category_encoders\n",
            "Successfully installed category_encoders-2.6.2\n",
            "Installing necessary libraries\n",
            "Requirement already satisfied: pyforest in /usr/local/lib/python3.10/dist-packages (1.1.0)\n",
            "Requirement already satisfied: category_encoders in /usr/local/lib/python3.10/dist-packages (2.6.2)\n",
            "Requirement already satisfied: numpy>=1.14.0 in /usr/local/lib/python3.10/dist-packages (from category_encoders) (1.23.5)\n",
            "Requirement already satisfied: scikit-learn>=0.20.0 in /usr/local/lib/python3.10/dist-packages (from category_encoders) (1.2.2)\n",
            "Requirement already satisfied: scipy>=1.0.0 in /usr/local/lib/python3.10/dist-packages (from category_encoders) (1.11.2)\n",
            "Requirement already satisfied: statsmodels>=0.9.0 in /usr/local/lib/python3.10/dist-packages (from category_encoders) (0.14.0)\n",
            "Requirement already satisfied: pandas>=1.0.5 in /usr/local/lib/python3.10/dist-packages (from category_encoders) (1.5.3)\n",
            "Requirement already satisfied: patsy>=0.5.1 in /usr/local/lib/python3.10/dist-packages (from category_encoders) (0.5.3)\n",
            "Requirement already satisfied: python-dateutil>=2.8.1 in /usr/local/lib/python3.10/dist-packages (from pandas>=1.0.5->category_encoders) (2.8.2)\n",
            "Requirement already satisfied: pytz>=2020.1 in /usr/local/lib/python3.10/dist-packages (from pandas>=1.0.5->category_encoders) (2023.3.post1)\n",
            "Requirement already satisfied: six in /usr/local/lib/python3.10/dist-packages (from patsy>=0.5.1->category_encoders) (1.16.0)\n",
            "Requirement already satisfied: joblib>=1.1.1 in /usr/local/lib/python3.10/dist-packages (from scikit-learn>=0.20.0->category_encoders) (1.3.2)\n",
            "Requirement already satisfied: threadpoolctl>=2.0.0 in /usr/local/lib/python3.10/dist-packages (from scikit-learn>=0.20.0->category_encoders) (3.2.0)\n",
            "Requirement already satisfied: packaging>=21.3 in /usr/local/lib/python3.10/dist-packages (from statsmodels>=0.9.0->category_encoders) (23.1)\n",
            "Mounting Google drive to load data\n",
            "Mounted at /content/gdrive\n",
            "lmporting libraries\n"
          ]
        }
      ],
      "source": [
        "print(\"Installing necessary libraries\")\n",
        "!pip install pyforest\n",
        "!pip install category_encoders\n",
        "\n",
        "print(\"Installing necessary libraries\")\n",
        "!pip install pyforest\n",
        "!pip install category_encoders\n",
        "\n",
        "print(\"Mounting Google drive to load data\")\n",
        "from google.colab import drive\n",
        "drive.mount('/content/gdrive')\n",
        "\n",
        "print(\"lmporting libraries\")\n",
        "from pyforest import *"
      ]
    },
    {
      "cell_type": "markdown",
      "source": [
        "# Other Relevant libraries\n"
      ],
      "metadata": {
        "id": "T6GQB9_UhEWC"
      }
    },
    {
      "cell_type": "code",
      "source": [
        "import pandas as pd\n",
        "import numpy as np\n",
        "# For Bayesian hyper-parameter optimization\n",
        "import hyperopt\n",
        "from xgboost import XGBClassifier\n",
        "from sklearn.model_selection import train_test_split, cross_val_score, cross_val_predict\n",
        "from sklearn.metrics import make_scorer, precision_recall_curve, recall_score, precision_score\n",
        "from functools import partial\n",
        "# To supress a deprecation warning caused due to an issue between XGBoost and SciPy\n",
        "import warnings\n",
        "\n",
        "MIN_PRECISION = 0.05\n",
        "\n",
        "# The current version of XGBoost uses a conditional statement that\n",
        "# the current version SciPy (internally used by XGBoost) doesn't like.\n",
        "# This supresses SciPy's deprecation warning message\n",
        "warnings.filterwarnings('ignore', category = DeprecationWarning)\n"
      ],
      "metadata": {
        "id": "4xduh2z_g9PG"
      },
      "execution_count": null,
      "outputs": []
    },
    {
      "cell_type": "markdown",
      "source": [
        "Load Dataset from Gdrive to save resources on Local computer"
      ],
      "metadata": {
        "id": "zPUCXClYfRpn"
      }
    },
    {
      "cell_type": "code",
      "execution_count": 2,
      "metadata": {
        "colab": {
          "base_uri": "https://localhost:8080/",
          "height": 17
        },
        "id": "LfDmKc8ojJGr",
        "outputId": "48e4cfb4-d0e9-43cf-d569-3b8ddfbdc8be"
      },
      "outputs": [
        {
          "output_type": "display_data",
          "data": {
            "text/plain": [
              "<IPython.core.display.Javascript object>"
            ],
            "application/javascript": [
              "\n",
              "        if (window._pyforest_update_imports_cell) { window._pyforest_update_imports_cell('import pandas as pd'); }\n",
              "    "
            ]
          },
          "metadata": {}
        }
      ],
      "source": [
        "data = pd.read_csv('gdrive/MyDrive/Fraud_Detection_Dataset.csv')"
      ]
    },
    {
      "cell_type": "code",
      "execution_count": 3,
      "metadata": {
        "colab": {
          "base_uri": "https://localhost:8080/"
        },
        "id": "mug6RniD-N1P",
        "outputId": "8ce808e5-0fb4-4bff-c786-f37bb33d4c3c"
      },
      "outputs": [
        {
          "output_type": "execute_result",
          "data": {
            "text/plain": [
              "Index(['Transaction ID', 'User ID', 'Transaction Amount',\n",
              "       'Transaction Date and Time', 'Merchant ID', 'Payment Method',\n",
              "       'Country Code', 'Transaction Type', 'Device Type', 'IP Address',\n",
              "       'Browser Type', 'Operating System', 'Merchant Category', 'User Age',\n",
              "       'User Occupation', 'User Income', 'User Gender', 'User Account Status',\n",
              "       'Transaction Status', 'Location Distance', 'Time Taken for Transaction',\n",
              "       'Transaction Time of Day', 'User's Transaction History',\n",
              "       'Merchant's Reputation Score', 'User's Device Location',\n",
              "       'Transaction Currency', 'Transaction Purpose', 'User's Credit Score',\n",
              "       'User's Email Domain', 'Merchant's Business Age',\n",
              "       'Transaction Authentication Method', 'Fraudulent Flag'],\n",
              "      dtype='object')"
            ]
          },
          "metadata": {},
          "execution_count": 3
        }
      ],
      "source": [
        "data.columns"
      ]
    },
    {
      "cell_type": "code",
      "execution_count": 4,
      "metadata": {
        "colab": {
          "base_uri": "https://localhost:8080/"
        },
        "id": "MJBOqUqW-4mZ",
        "outputId": "57181402-c227-4bcd-ce77-3aa863b8f775"
      },
      "outputs": [
        {
          "output_type": "execute_result",
          "data": {
            "text/plain": [
              "Transaction ID                         int64\n",
              "User ID                                int64\n",
              "Transaction Amount                   float64\n",
              "Transaction Date and Time             object\n",
              "Merchant ID                            int64\n",
              "Payment Method                        object\n",
              "Country Code                          object\n",
              "Transaction Type                      object\n",
              "Device Type                           object\n",
              "IP Address                            object\n",
              "Browser Type                          object\n",
              "Operating System                      object\n",
              "Merchant Category                     object\n",
              "User Age                               int64\n",
              "User Occupation                       object\n",
              "User Income                          float64\n",
              "User Gender                           object\n",
              "User Account Status                   object\n",
              "Transaction Status                    object\n",
              "Location Distance                    float64\n",
              "Time Taken for Transaction           float64\n",
              "Transaction Time of Day               object\n",
              "User's Transaction History             int64\n",
              "Merchant's Reputation Score          float64\n",
              "User's Device Location                object\n",
              "Transaction Currency                  object\n",
              "Transaction Purpose                   object\n",
              "User's Credit Score                    int64\n",
              "User's Email Domain                   object\n",
              "Merchant's Business Age                int64\n",
              "Transaction Authentication Method     object\n",
              "Fraudulent Flag                        int64\n",
              "dtype: object"
            ]
          },
          "metadata": {},
          "execution_count": 4
        }
      ],
      "source": [
        "data.dtypes"
      ]
    },
    {
      "cell_type": "markdown",
      "source": [
        "**Data Preprocessing**"
      ],
      "metadata": {
        "id": "_91ILmjKfl8K"
      }
    },
    {
      "cell_type": "code",
      "execution_count": 5,
      "metadata": {
        "id": "YQwJ5SLT_mdx"
      },
      "outputs": [],
      "source": [
        "X = data.copy()"
      ]
    },
    {
      "cell_type": "code",
      "execution_count": 6,
      "metadata": {
        "id": "U2I657JyACTz"
      },
      "outputs": [],
      "source": [
        "# handling IP Address with high cardinality\n",
        "\n",
        "# Calculate the frequency of each IP address\n",
        "ip_address_counts = X['IP Address'].value_counts(normalize=True)\n",
        "\n",
        "# Create a new column with the frequency of each IP address\n",
        "X['IP Address Frequency'] = X['IP Address'].map(ip_address_counts)\n",
        "\n",
        "# Replace missing values (if any) with 0 (assuming you want to treat unseen IPs as less common)\n",
        "X['IP Address Frequency'].fillna(0, inplace=True)\n"
      ]
    },
    {
      "cell_type": "code",
      "source": [
        "X['Transaction Date and Time'] = pd.to_datetime(X['Transaction Date and Time'])\n",
        "X['Day of the Week'] = X['Transaction Date and Time'].dt.dayofweek\n",
        "X['Hour of the Day'] = X['Transaction Date and Time'].dt.hour"
      ],
      "metadata": {
        "colab": {
          "base_uri": "https://localhost:8080/",
          "height": 17
        },
        "id": "i6-jm_YWHJGk",
        "outputId": "b8381ab3-92b8-4f9b-9cc8-3774188e57ec"
      },
      "execution_count": 7,
      "outputs": [
        {
          "output_type": "display_data",
          "data": {
            "text/plain": [
              "<IPython.core.display.Javascript object>"
            ],
            "application/javascript": [
              "\n",
              "        if (window._pyforest_update_imports_cell) { window._pyforest_update_imports_cell('import pandas as pd'); }\n",
              "    "
            ]
          },
          "metadata": {}
        }
      ]
    },
    {
      "cell_type": "code",
      "execution_count": 8,
      "metadata": {
        "id": "9dy9Sd4LAMUW",
        "colab": {
          "base_uri": "https://localhost:8080/"
        },
        "outputId": "46dd7905-8b7b-4836-a93d-c8d8573c3984"
      },
      "outputs": [
        {
          "output_type": "execute_result",
          "data": {
            "text/plain": [
              "Payment Method                            40\n",
              "Country Code                              40\n",
              "Transaction Type                          38\n",
              "Device Type                               38\n",
              "IP Address                           5995699\n",
              "Browser Type                              39\n",
              "Operating System                          40\n",
              "Merchant Category                         40\n",
              "User Occupation                           26\n",
              "User Gender                                7\n",
              "User Account Status                       18\n",
              "Transaction Status                        40\n",
              "Transaction Time of Day                    3\n",
              "User's Device Location                    40\n",
              "Transaction Currency                      40\n",
              "Transaction Purpose                       38\n",
              "User's Email Domain                       40\n",
              "Transaction Authentication Method         39\n",
              "dtype: int64"
            ]
          },
          "metadata": {},
          "execution_count": 8
        }
      ],
      "source": [
        "cat_col = X.dtypes[X.dtypes == 'object'].index.tolist()\n",
        "for col in cat_col:\n",
        "  X[col] = X[col].astype('category')\n",
        "cat_col = X.dtypes[X.dtypes == 'category'].index.tolist()\n",
        "X[cat_col].nunique()"
      ]
    },
    {
      "cell_type": "code",
      "source": [
        "# removing IP Address column\n",
        "cat_col.remove('IP Address')"
      ],
      "metadata": {
        "id": "LJ84yxTWD-VT"
      },
      "execution_count": 9,
      "outputs": []
    },
    {
      "cell_type": "code",
      "source": [
        "X[cat_col].nunique()"
      ],
      "metadata": {
        "colab": {
          "base_uri": "https://localhost:8080/"
        },
        "id": "suqpeRzQF1s9",
        "outputId": "eeba1e49-4b13-4456-b32f-149fa21ea691"
      },
      "execution_count": 10,
      "outputs": [
        {
          "output_type": "execute_result",
          "data": {
            "text/plain": [
              "Payment Method                       40\n",
              "Country Code                         40\n",
              "Transaction Type                     38\n",
              "Device Type                          38\n",
              "Browser Type                         39\n",
              "Operating System                     40\n",
              "Merchant Category                    40\n",
              "User Occupation                      26\n",
              "User Gender                           7\n",
              "User Account Status                  18\n",
              "Transaction Status                   40\n",
              "Transaction Time of Day               3\n",
              "User's Device Location               40\n",
              "Transaction Currency                 40\n",
              "Transaction Purpose                  38\n",
              "User's Email Domain                  40\n",
              "Transaction Authentication Method    39\n",
              "dtype: int64"
            ]
          },
          "metadata": {},
          "execution_count": 10
        }
      ]
    },
    {
      "cell_type": "markdown",
      "source": [
        "**Feature Engineering**"
      ],
      "metadata": {
        "id": "qz8nARFefw6j"
      }
    },
    {
      "cell_type": "code",
      "source": [
        "# for variables with large number of unique values, frequency encoding seems to be the best shot\n",
        "\n",
        "for column in ['Payment Method', 'Country Code', 'Transaction Type', 'Device Type', 'Browser Type', 'Operating System', 'Merchant Category', 'Transaction Status', 'User\\'s Device Location', 'Transaction Currency', 'Transaction Purpose', 'User\\'s Email Domain']:\n",
        "    frequency_counts = X[column].value_counts(normalize=True)\n",
        "    X[column + '_Frequency'] = X[column].map(frequency_counts)"
      ],
      "metadata": {
        "id": "KIxOyfFDId_g"
      },
      "execution_count": 11,
      "outputs": []
    },
    {
      "cell_type": "code",
      "source": [
        "# Remove moderate number of unique values\n",
        "\n",
        "X_encoded = pd.get_dummies(X, columns=['User Occupation', 'User Account Status'])\n",
        "X_encoded = pd.get_dummies(X, columns=['User Gender', 'Transaction Time of Day', 'Transaction Authentication Method'])"
      ],
      "metadata": {
        "colab": {
          "base_uri": "https://localhost:8080/",
          "height": 17
        },
        "id": "cH4g_y6YJxHm",
        "outputId": "d2b1922c-f0ca-491a-b143-bf5aa8a7c2af"
      },
      "execution_count": 12,
      "outputs": [
        {
          "output_type": "display_data",
          "data": {
            "text/plain": [
              "<IPython.core.display.Javascript object>"
            ],
            "application/javascript": [
              "\n",
              "        if (window._pyforest_update_imports_cell) { window._pyforest_update_imports_cell('import pandas as pd'); }\n",
              "    "
            ]
          },
          "metadata": {}
        },
        {
          "output_type": "display_data",
          "data": {
            "text/plain": [
              "<IPython.core.display.Javascript object>"
            ],
            "application/javascript": [
              "\n",
              "        if (window._pyforest_update_imports_cell) { window._pyforest_update_imports_cell('import pandas as pd'); }\n",
              "    "
            ]
          },
          "metadata": {}
        }
      ]
    },
    {
      "cell_type": "code",
      "source": [
        "X.shape"
      ],
      "metadata": {
        "colab": {
          "base_uri": "https://localhost:8080/"
        },
        "id": "S21hakqBMHOr",
        "outputId": "aac55eee-1305-4f1f-f317-8aa7337e9e58"
      },
      "execution_count": 13,
      "outputs": [
        {
          "output_type": "execute_result",
          "data": {
            "text/plain": [
              "(6000000, 47)"
            ]
          },
          "metadata": {},
          "execution_count": 13
        }
      ]
    },
    {
      "cell_type": "code",
      "source": [
        "# Removing Original Columns\n",
        "# List of original categorical columns to remove\n",
        "categorical_columns_to_remove = ['Payment Method', 'Country Code', 'Transaction Type', 'Device Type', 'Browser Type', 'Operating System', 'Merchant Category', 'Transaction Status', 'User\\'s Device Location', 'Transaction Currency', 'Transaction Purpose', 'User\\'s Email Domain', 'User Occupation', 'User Account Status']\n",
        "\n",
        "# Drop the original categorical columns\n",
        "X_encoded = X_encoded.drop(columns=categorical_columns_to_remove)"
      ],
      "metadata": {
        "id": "4VMEc1m8M3yO"
      },
      "execution_count": 14,
      "outputs": []
    },
    {
      "cell_type": "code",
      "source": [
        "X.shape"
      ],
      "metadata": {
        "colab": {
          "base_uri": "https://localhost:8080/"
        },
        "id": "koIlrqncNSib",
        "outputId": "b7c7e807-ec12-48a6-c130-00289493aa78"
      },
      "execution_count": 15,
      "outputs": [
        {
          "output_type": "execute_result",
          "data": {
            "text/plain": [
              "(6000000, 47)"
            ]
          },
          "metadata": {},
          "execution_count": 15
        }
      ]
    },
    {
      "cell_type": "code",
      "source": [
        "X_encoded.shape"
      ],
      "metadata": {
        "colab": {
          "base_uri": "https://localhost:8080/"
        },
        "id": "fq76Ruz7Nu41",
        "outputId": "5cc83ebd-8447-414f-d56d-da7be73362df"
      },
      "execution_count": 16,
      "outputs": [
        {
          "output_type": "execute_result",
          "data": {
            "text/plain": [
              "(6000000, 79)"
            ]
          },
          "metadata": {},
          "execution_count": 16
        }
      ]
    },
    {
      "cell_type": "code",
      "source": [
        "X_encoded.drop('Transaction Date and Time', axis=1, inplace=True)\n"
      ],
      "metadata": {
        "id": "QWJrIUaqN5Sx"
      },
      "execution_count": 17,
      "outputs": []
    },
    {
      "cell_type": "code",
      "source": [
        "X_encoded.dtypes==\"category\""
      ],
      "metadata": {
        "colab": {
          "base_uri": "https://localhost:8080/"
        },
        "id": "EI2DlmiyOLN5",
        "outputId": "8cc56c57-2ce5-4ec8-f446-c9f2d8da028f"
      },
      "execution_count": 18,
      "outputs": [
        {
          "output_type": "execute_result",
          "data": {
            "text/plain": [
              "Transaction ID                                                       False\n",
              "User ID                                                              False\n",
              "Transaction Amount                                                   False\n",
              "Merchant ID                                                          False\n",
              "IP Address                                                            True\n",
              "                                                                     ...  \n",
              "Transaction Authentication Method_Transaction Confirmation Number    False\n",
              "Transaction Authentication Method_Two-Factor Authentication          False\n",
              "Transaction Authentication Method_USB Security Key                   False\n",
              "Transaction Authentication Method_Voice Recognition                  False\n",
              "Transaction Authentication Method_Voiceprint                         False\n",
              "Length: 78, dtype: bool"
            ]
          },
          "metadata": {},
          "execution_count": 18
        }
      ]
    },
    {
      "cell_type": "code",
      "source": [
        "X_encoded.drop('IP Address', axis=1, inplace=True)"
      ],
      "metadata": {
        "id": "-HpBC-nkOy4N"
      },
      "execution_count": 19,
      "outputs": []
    },
    {
      "cell_type": "code",
      "source": [
        "small_data = X_encoded.sample(n=1000000, random_state=42)"
      ],
      "metadata": {
        "id": "rf_-0it1jN5M"
      },
      "execution_count": 20,
      "outputs": []
    },
    {
      "cell_type": "code",
      "source": [
        "X_data = small_data.drop('Fraudulent Flag', axis = 1)\n",
        "y_data = small_data['Fraudulent Flag']"
      ],
      "metadata": {
        "id": "uVEldTH4Pyn0"
      },
      "execution_count": 21,
      "outputs": []
    },
    {
      "cell_type": "markdown",
      "source": [
        "# Feature Selection"
      ],
      "metadata": {
        "id": "4qWIu4r4Q99N"
      }
    },
    {
      "cell_type": "code",
      "source": [
        "from sklearn.feature_selection import SelectKBest, mutual_info_classif\n",
        "selector = SelectKBest(score_func=mutual_info_classif, k=20)\n",
        "X_selected = selector.fit_transform(X_data, y_data)"
      ],
      "metadata": {
        "id": "BZncVsWIRCA9"
      },
      "execution_count": 45,
      "outputs": []
    },
    {
      "cell_type": "code",
      "source": [
        "# Get the indices of the selected features\n",
        "selected_indices = selector.get_support(indices=True)"
      ],
      "metadata": {
        "id": "JohkIJvtRLnE"
      },
      "execution_count": 26,
      "outputs": []
    },
    {
      "cell_type": "code",
      "source": [
        "# Get the corresponding feature names\n",
        "selected_features = X_data.columns[selected_indices]"
      ],
      "metadata": {
        "id": "RH_VVN8oR3DA"
      },
      "execution_count": 27,
      "outputs": []
    },
    {
      "cell_type": "code",
      "source": [
        "# Create a DataFrame with selected features\n",
        "selected_features_df = X_data[selected_features]"
      ],
      "metadata": {
        "id": "6PAgr9PgR4yb"
      },
      "execution_count": 28,
      "outputs": []
    },
    {
      "cell_type": "code",
      "source": [
        "# Create a visualization (assuming X_selected is a DataFrame)\n",
        "import matplotlib.pyplot as plt\n",
        "\n",
        "# Assuming X_selected is a DataFrame\n",
        "plt.figure(figsize=(10, 6))\n",
        "plt.bar(selected_features, selector.scores_[selected_indices])\n",
        "plt.xlabel('Features')\n",
        "plt.ylabel('Mutual Information Score')\n",
        "plt.title('Top 10 Selected Features')\n",
        "plt.xticks(rotation=45)\n",
        "plt.show()\n",
        "\n",
        "# view the selected features in a DataFrame\n",
        "print(selected_features_df)"
      ],
      "metadata": {
        "colab": {
          "base_uri": "https://localhost:8080/",
          "height": 1000
        },
        "id": "-CnG7v0IqalC",
        "outputId": "dd659dfb-5a78-4d8c-fbe3-5c9798e820f0"
      },
      "execution_count": 30,
      "outputs": [
        {
          "output_type": "display_data",
          "data": {
            "text/plain": [
              "<Figure size 1000x600 with 1 Axes>"
            ],
            "image/png": "[encoded data removed]"
          },
          "metadata": {}
        },
        {
          "output_type": "stream",
          "name": "stdout",
          "text": [
            "         IP Address Frequency  Day of the Week  User Gender_Agender  \\\n",
            "1324896          1.666667e-07                3                    0   \n",
            "3566176          1.666667e-07                6                    0   \n",
            "1109043          1.666667e-07                0                    0   \n",
            "4286042          1.666667e-07                2                    0   \n",
            "5395174          1.666667e-07                6                    0   \n",
            "...                       ...              ...                  ...   \n",
            "4560320          1.666667e-07                4                    0   \n",
            "1270093          1.666667e-07                0                    0   \n",
            "5663             1.666667e-07                5                    0   \n",
            "5056311          1.666667e-07                6                    0   \n",
            "4778899          1.666667e-07                1                    0   \n",
            "\n",
            "         User Gender_Genderqueer  User Gender_Male  User Gender_Non-Binary  \\\n",
            "1324896                        0                 0                       1   \n",
            "3566176                        0                 1                       0   \n",
            "1109043                        1                 0                       0   \n",
            "4286042                        0                 0                       1   \n",
            "5395174                        0                 0                       0   \n",
            "...                          ...               ...                     ...   \n",
            "4560320                        1                 0                       0   \n",
            "1270093                        0                 1                       0   \n",
            "5663                           0                 0                       0   \n",
            "5056311                        1                 0                       0   \n",
            "4778899                        0                 0                       0   \n",
            "\n",
            "         User Gender_Other  Transaction Time of Day_Daytime  \\\n",
            "1324896                  0                                0   \n",
            "3566176                  0                                1   \n",
            "1109043                  0                                1   \n",
            "4286042                  0                                0   \n",
            "5395174                  1                                0   \n",
            "...                    ...                              ...   \n",
            "4560320                  0                                0   \n",
            "1270093                  0                                0   \n",
            "5663                     0                                0   \n",
            "5056311                  0                                0   \n",
            "4778899                  0                                1   \n",
            "\n",
            "         Transaction Time of Day_Evening  Transaction Time of Day_Nighttime  \n",
            "1324896                                1                                  0  \n",
            "3566176                                0                                  0  \n",
            "1109043                                0                                  0  \n",
            "4286042                                1                                  0  \n",
            "5395174                                1                                  0  \n",
            "...                                  ...                                ...  \n",
            "4560320                                1                                  0  \n",
            "1270093                                0                                  1  \n",
            "5663                                   1                                  0  \n",
            "5056311                                0                                  1  \n",
            "4778899                                0                                  0  \n",
            "\n",
            "[1000000 rows x 10 columns]\n"
          ]
        }
      ]
    },
    {
      "cell_type": "code",
      "source": [
        "# Splitting\n",
        "X_train, X_test, y_train, y_test = train_test_split(selected_features_df, y_data, test_size=0.2, stratify=y_data, random_state=0)"
      ],
      "metadata": {
        "colab": {
          "base_uri": "https://localhost:8080/",
          "height": 17
        },
        "id": "HG1ITLm1szIo",
        "outputId": "73dd3a26-5876-4b34-bf2d-32794f27828a"
      },
      "execution_count": 31,
      "outputs": [
        {
          "output_type": "display_data",
          "data": {
            "text/plain": [
              "<IPython.core.display.Javascript object>"
            ],
            "application/javascript": [
              "\n",
              "        if (window._pyforest_update_imports_cell) { window._pyforest_update_imports_cell('import pandas as pd\\nfrom scipy import stats\\nimport statistics\\nfrom sklearn.model_selection import train_test_split\\nfrom sklearn import svm\\nimport statsmodels.api as sm\\nimport spacy\\nimport skimage\\nfrom scipy import signal as sg\\nimport sklearn\\nimport seaborn as sns\\nimport xgboost as xgb\\nimport sys'); }\n",
              "    "
            ]
          },
          "metadata": {}
        }
      ]
    },
    {
      "cell_type": "code",
      "source": [
        "# # build the model\n",
        "\n",
        "# # from imblearn.over_sampling import SMOTE\n",
        "# # X_resampled, y_resampled = SMOTE().fit_resample(X_train_encoded, y_train_small)\n",
        "# # X_test_resampled, y_test_resampled = SMOTE().fit_resample(X_test_encoded, y_test_small)\n",
        "\n",
        "# # X_resampled.drop(['Year', 'Month', 'Day'], axis=1, inplace=True)\n",
        "# # X_test_resampled.drop(['Year', 'Month', 'Day'], axis=1, inplace=True)\n",
        "\n",
        "\n",
        "# dtrain = xgb.DMatrix(data=X_train, label= y_train)\n",
        "# dtest = xgb.DMatrix(data=X_test, label= y_test)\n",
        "\n",
        "# # # Assuming 'X_train' and 'y_train' are your training data\n",
        "\n",
        "# # # Initialize the XGBoost model with categorical support enabled\n",
        "# # model = xgb.XGBClassifier(verbosity=2)\n",
        "\n",
        "# # # Define the parameter grid for hyperparameter tuning\n",
        "# # param_grid = {\n",
        "# #     'max_depth': [3, 7],\n",
        "# #     'min_child_weight': [1, 5],\n",
        "# #     'subsample': [0.8, 1.0],\n",
        "# #     'colsample_bytree': [0.8, 1.0],\n",
        "# #     'learning_rate': [0.1, 0.01, 0.5, 0.9],\n",
        "# #     'n_estimator': [200]\n",
        "# # }\n",
        "\n",
        "# scale_pos_weight = len(y_train[y_train == 0]) / len(y_train[y_train == 1])\n",
        "\n",
        "# params = {\n",
        "#     'min_child_weight': 7,\n",
        "#     'subsample': 0.577,\n",
        "#     'max_depth': 10,\n",
        "#     'reg_lambda': 0.377,\n",
        "#     'learning_rate': 0.017,\n",
        "#     'colsample_bytree': 0.974,\n",
        "#     'reg_alpha': 0.206,\n",
        "#     'objective': 'binary:logistic',\n",
        "#     'eval_metric': 'logloss',\n",
        "#     'scale_pos_weight': scale_pos_weight\n",
        "\n",
        "# }\n",
        "# # # Initialize GridSearchCV\n",
        "# # grid_search = GridSearchCV(estimator=model, param_grid=param_grid, scoring='roc_auc', cv=3, verbose=2, n_jobs=-1,  error_score='raise')\n",
        "\n",
        "# # # Perform the hyperparameter tuning\n",
        "# # grid_search.fit(X_train_encoded, y_train_small)\n",
        "\n",
        "# # # Get the best hyperparameters\n",
        "# # best_params = grid_search.best_params_\n",
        "\n",
        "# # # Train the model with the best hyperparameters\n",
        "# #best_model = xgb.XGBClassifier(params, verbosity=2)\n",
        "# best_model =xgb.train(params, dtrain, num_boost_round=100)\n",
        "\n",
        "# # # Evaluate the model\n",
        "# y_pred = best_model.predict(dtest)\n",
        "# # accuracy = accuracy_score(y_test_resampled, y_pred)\n",
        "\n",
        "# # # Display results\n",
        "# # #print(f'Best Hyperparameters: {best_params}')\n",
        "# # print(f'Accuracy: {accuracy}')\n"
      ],
      "metadata": {
        "colab": {
          "base_uri": "https://localhost:8080/",
          "height": 17
        },
        "id": "dZsr5yh7qhzy",
        "outputId": "9e94a369-119c-4246-a289-b5429bcaf684"
      },
      "execution_count": 33,
      "outputs": [
        {
          "output_type": "display_data",
          "data": {
            "text/plain": [
              "<IPython.core.display.Javascript object>"
            ],
            "application/javascript": [
              "\n",
              "        if (window._pyforest_update_imports_cell) { window._pyforest_update_imports_cell('import pandas as pd\\nfrom scipy import stats\\nimport statistics\\nfrom sklearn.model_selection import train_test_split\\nfrom sklearn import svm\\nimport statsmodels.api as sm\\nimport spacy\\nimport skimage\\nfrom scipy import signal as sg\\nimport sklearn\\nimport seaborn as sns\\nimport xgboost as xgb\\nimport sys'); }\n",
              "    "
            ]
          },
          "metadata": {}
        },
        {
          "output_type": "display_data",
          "data": {
            "text/plain": [
              "<IPython.core.display.Javascript object>"
            ],
            "application/javascript": [
              "\n",
              "        if (window._pyforest_update_imports_cell) { window._pyforest_update_imports_cell('import pandas as pd\\nfrom scipy import stats\\nimport statistics\\nfrom sklearn.model_selection import train_test_split\\nfrom sklearn import svm\\nimport statsmodels.api as sm\\nimport spacy\\nimport skimage\\nfrom scipy import signal as sg\\nimport sklearn\\nimport seaborn as sns\\nimport xgboost as xgb\\nimport sys'); }\n",
              "    "
            ]
          },
          "metadata": {}
        },
        {
          "output_type": "display_data",
          "data": {
            "text/plain": [
              "<IPython.core.display.Javascript object>"
            ],
            "application/javascript": [
              "\n",
              "        if (window._pyforest_update_imports_cell) { window._pyforest_update_imports_cell('import pandas as pd\\nfrom scipy import stats\\nimport statistics\\nfrom sklearn.model_selection import train_test_split\\nfrom sklearn import svm\\nimport statsmodels.api as sm\\nimport spacy\\nimport skimage\\nfrom scipy import signal as sg\\nimport sklearn\\nimport seaborn as sns\\nimport xgboost as xgb\\nimport sys'); }\n",
              "    "
            ]
          },
          "metadata": {}
        }
      ]
    },
    {
      "cell_type": "code",
      "source": [
        "# from sklearn.metrics import accuracy_score, classification_report\n",
        "\n",
        "# #y_pred = best_model.predict(dtest)\n",
        "\n",
        "# # Convert predicted probabilities to binary predictions (0 or 1)\n",
        "# y_pred_binary = [1 if p > 0.5 else 0 for p in y_pred]\n",
        "\n",
        "# # Evaluate model performance\n",
        "# accuracy = accuracy_score(y_test, y_pred_binary)\n",
        "# report = classification_report(y_test, y_pred_binary)\n",
        "\n",
        "# # Display results\n",
        "# print(f'Accuracy: {accuracy}')\n",
        "# print('Classification Report:')\n",
        "# print(report)"
      ],
      "metadata": {
        "colab": {
          "base_uri": "https://localhost:8080/"
        },
        "id": "GPtEUjKQtoAt",
        "outputId": "76c33243-2ecd-4430-d1f2-89cb2a392e3d"
      },
      "execution_count": 40,
      "outputs": [
        {
          "output_type": "stream",
          "name": "stdout",
          "text": [
            "Accuracy: 0.50095\n",
            "Classification Report:\n",
            "              precision    recall  f1-score   support\n",
            "\n",
            "           0       0.50      0.51      0.51     99969\n",
            "           1       0.50      0.49      0.50    100031\n",
            "\n",
            "    accuracy                           0.50    200000\n",
            "   macro avg       0.50      0.50      0.50    200000\n",
            "weighted avg       0.50      0.50      0.50    200000\n",
            "\n"
          ]
        }
      ]
    },
    {
      "cell_type": "code",
      "source": [
        "# from sklearn.ensemble import RandomForestClassifier\n",
        "# from sklearn.linear_model import LogisticRegression\n",
        "# from sklearn.ensemble import VotingClassifier\n",
        "\n",
        "# from sklearn.preprocessing import StandardScaler\n",
        "\n",
        "# scaler = StandardScaler()\n",
        "# X_standardized = scaler.fit_transform(X_train)\n",
        "# X_test_standardized = scaler.fit(X_test)\n",
        "\n",
        "# params = {\n",
        "#     'objective': 'binary:logistic',\n",
        "#     'min_child_weight': 7,\n",
        "#     'subsample': 0.577,\n",
        "#     'max_depth': 10,\n",
        "#     'reg_lambda': 0.377,\n",
        "#     'learning_rate': 0.017,\n",
        "#     'colsample_bytree': 0.974,\n",
        "#     'reg_alpha': 0.206,\n",
        "#     'eval_metric': 'logloss',\n",
        "#     'scale_pos_weight': scale_pos_weight\n",
        "\n",
        "# }\n",
        "\n",
        "# # Initialize base models\n",
        "# xgb_model = xgb.XGBClassifier(params)\n",
        "# rf_model = RandomForestClassifier(n_estimators=1500, random_state=42)\n",
        "# # lr_model = LogisticRegression()\n",
        "\n",
        "# # Create a voting ensemble\n",
        "# ensemble_model = VotingClassifier(estimators=[\n",
        "#     ('xgb', xgb_model),\n",
        "#     ('rf', rf_model)\n",
        "#     #('lr', lr_model)\n",
        "# ], voting='soft')\n",
        "\n",
        "# # Train the ensemble model\n",
        "# ensemble_model.fit(X_train, y_train)\n",
        "\n",
        "# # Evaluate on the test set\n",
        "# y_pred = ensemble_model.predict(X_test)\n",
        "# accuracy = accuracy_score(y_test, y_pred)\n",
        "# print(f'Accuracy: {accuracy}')"
      ],
      "metadata": {
        "colab": {
          "base_uri": "https://localhost:8080/",
          "height": 1000
        },
        "id": "2cNE_j9Sv5Cf",
        "outputId": "79e55ae2-ddb8-4ea9-dedd-a05e7fa719fb"
      },
      "execution_count": 48,
      "outputs": [
        {
          "output_type": "display_data",
          "data": {
            "text/plain": [
              "<IPython.core.display.Javascript object>"
            ],
            "application/javascript": [
              "\n",
              "        if (window._pyforest_update_imports_cell) { window._pyforest_update_imports_cell('import pandas as pd\\nfrom scipy import stats\\nimport statistics\\nfrom sklearn.model_selection import train_test_split\\nfrom sklearn import svm\\nimport statsmodels.api as sm\\nimport spacy\\nimport skimage\\nfrom scipy import signal as sg\\nimport sklearn\\nimport seaborn as sns\\nimport xgboost as xgb\\nimport sys'); }\n",
              "    "
            ]
          },
          "metadata": {}
        },
        {
          "output_type": "stream",
          "name": "stderr",
          "text": [
            "/usr/local/lib/python3.10/dist-packages/xgboost/core.py:617: FutureWarning: Pass `objective` as keyword args.\n",
            "  warnings.warn(msg, FutureWarning)\n"
          ]
        },
        {
          "output_type": "error",
          "ename": "XGBoostError",
          "evalue": "ignored",
          "traceback": [
            "\u001b[0;31m---------------------------------------------------------------------------\u001b[0m",
            "\u001b[0;31mXGBoostError\u001b[0m                              Traceback (most recent call last)",
            "\u001b[0;32m/usr/local/lib/python3.10/dist-packages/pyforest/__init__.py\u001b[0m in \u001b[0;36m<cell line: 38>\u001b[0;34m()\u001b[0m\n\u001b[1;32m     36\u001b[0m \u001b[0;34m\u001b[0m\u001b[0m\n\u001b[1;32m     37\u001b[0m \u001b[0;31m# Train the ensemble model\u001b[0m\u001b[0;34m\u001b[0m\u001b[0;34m\u001b[0m\u001b[0m\n\u001b[0;32m---> 38\u001b[0;31m \u001b[0mensemble_model\u001b[0m\u001b[0;34m.\u001b[0m\u001b[0mfit\u001b[0m\u001b[0;34m(\u001b[0m\u001b[0mX_train\u001b[0m\u001b[0;34m,\u001b[0m \u001b[0my_train\u001b[0m\u001b[0;34m)\u001b[0m\u001b[0;34m\u001b[0m\u001b[0;34m\u001b[0m\u001b[0m\n\u001b[0m\u001b[1;32m     39\u001b[0m \u001b[0;34m\u001b[0m\u001b[0m\n\u001b[1;32m     40\u001b[0m \u001b[0;31m# Evaluate on the test set\u001b[0m\u001b[0;34m\u001b[0m\u001b[0;34m\u001b[0m\u001b[0m\n",
            "\u001b[0;32m/usr/local/lib/python3.10/dist-packages/sklearn/ensemble/_voting.py\u001b[0m in \u001b[0;36mfit\u001b[0;34m(self, X, y, sample_weight)\u001b[0m\n\u001b[1;32m    344\u001b[0m         \u001b[0mtransformed_y\u001b[0m \u001b[0;34m=\u001b[0m \u001b[0mself\u001b[0m\u001b[0;34m.\u001b[0m\u001b[0mle_\u001b[0m\u001b[0;34m.\u001b[0m\u001b[0mtransform\u001b[0m\u001b[0;34m(\u001b[0m\u001b[0my\u001b[0m\u001b[0;34m)\u001b[0m\u001b[0;34m\u001b[0m\u001b[0;34m\u001b[0m\u001b[0m\n\u001b[1;32m    345\u001b[0m \u001b[0;34m\u001b[0m\u001b[0m\n\u001b[0;32m--> 346\u001b[0;31m         \u001b[0;32mreturn\u001b[0m \u001b[0msuper\u001b[0m\u001b[0;34m(\u001b[0m\u001b[0;34m)\u001b[0m\u001b[0;34m.\u001b[0m\u001b[0mfit\u001b[0m\u001b[0;34m(\u001b[0m\u001b[0mX\u001b[0m\u001b[0;34m,\u001b[0m \u001b[0mtransformed_y\u001b[0m\u001b[0;34m,\u001b[0m \u001b[0msample_weight\u001b[0m\u001b[0;34m)\u001b[0m\u001b[0;34m\u001b[0m\u001b[0;34m\u001b[0m\u001b[0m\n\u001b[0m\u001b[1;32m    347\u001b[0m \u001b[0;34m\u001b[0m\u001b[0m\n\u001b[1;32m    348\u001b[0m     \u001b[0;32mdef\u001b[0m \u001b[0mpredict\u001b[0m\u001b[0;34m(\u001b[0m\u001b[0mself\u001b[0m\u001b[0;34m,\u001b[0m \u001b[0mX\u001b[0m\u001b[0;34m)\u001b[0m\u001b[0;34m:\u001b[0m\u001b[0;34m\u001b[0m\u001b[0;34m\u001b[0m\u001b[0m\n",
            "\u001b[0;32m/usr/local/lib/python3.10/dist-packages/sklearn/ensemble/_voting.py\u001b[0m in \u001b[0;36mfit\u001b[0;34m(self, X, y, sample_weight)\u001b[0m\n\u001b[1;32m     79\u001b[0m             )\n\u001b[1;32m     80\u001b[0m \u001b[0;34m\u001b[0m\u001b[0m\n\u001b[0;32m---> 81\u001b[0;31m         self.estimators_ = Parallel(n_jobs=self.n_jobs)(\n\u001b[0m\u001b[1;32m     82\u001b[0m             delayed(_fit_single_estimator)(\n\u001b[1;32m     83\u001b[0m                 \u001b[0mclone\u001b[0m\u001b[0;34m(\u001b[0m\u001b[0mclf\u001b[0m\u001b[0;34m)\u001b[0m\u001b[0;34m,\u001b[0m\u001b[0;34m\u001b[0m\u001b[0;34m\u001b[0m\u001b[0m\n",
            "\u001b[0;32m/usr/local/lib/python3.10/dist-packages/sklearn/utils/parallel.py\u001b[0m in \u001b[0;36m__call__\u001b[0;34m(self, iterable)\u001b[0m\n\u001b[1;32m     61\u001b[0m             \u001b[0;32mfor\u001b[0m \u001b[0mdelayed_func\u001b[0m\u001b[0;34m,\u001b[0m \u001b[0margs\u001b[0m\u001b[0;34m,\u001b[0m \u001b[0mkwargs\u001b[0m \u001b[0;32min\u001b[0m \u001b[0miterable\u001b[0m\u001b[0;34m\u001b[0m\u001b[0;34m\u001b[0m\u001b[0m\n\u001b[1;32m     62\u001b[0m         )\n\u001b[0;32m---> 63\u001b[0;31m         \u001b[0;32mreturn\u001b[0m \u001b[0msuper\u001b[0m\u001b[0;34m(\u001b[0m\u001b[0;34m)\u001b[0m\u001b[0;34m.\u001b[0m\u001b[0m__call__\u001b[0m\u001b[0;34m(\u001b[0m\u001b[0miterable_with_config\u001b[0m\u001b[0;34m)\u001b[0m\u001b[0;34m\u001b[0m\u001b[0;34m\u001b[0m\u001b[0m\n\u001b[0m\u001b[1;32m     64\u001b[0m \u001b[0;34m\u001b[0m\u001b[0m\n\u001b[1;32m     65\u001b[0m \u001b[0;34m\u001b[0m\u001b[0m\n",
            "\u001b[0;32m/usr/local/lib/python3.10/dist-packages/joblib/parallel.py\u001b[0m in \u001b[0;36m__call__\u001b[0;34m(self, iterable)\u001b[0m\n\u001b[1;32m   1861\u001b[0m             \u001b[0moutput\u001b[0m \u001b[0;34m=\u001b[0m \u001b[0mself\u001b[0m\u001b[0;34m.\u001b[0m\u001b[0m_get_sequential_output\u001b[0m\u001b[0;34m(\u001b[0m\u001b[0miterable\u001b[0m\u001b[0;34m)\u001b[0m\u001b[0;34m\u001b[0m\u001b[0;34m\u001b[0m\u001b[0m\n\u001b[1;32m   1862\u001b[0m             \u001b[0mnext\u001b[0m\u001b[0;34m(\u001b[0m\u001b[0moutput\u001b[0m\u001b[0;34m)\u001b[0m\u001b[0;34m\u001b[0m\u001b[0;34m\u001b[0m\u001b[0m\n\u001b[0;32m-> 1863\u001b[0;31m             \u001b[0;32mreturn\u001b[0m \u001b[0moutput\u001b[0m \u001b[0;32mif\u001b[0m \u001b[0mself\u001b[0m\u001b[0;34m.\u001b[0m\u001b[0mreturn_generator\u001b[0m \u001b[0;32melse\u001b[0m \u001b[0mlist\u001b[0m\u001b[0;34m(\u001b[0m\u001b[0moutput\u001b[0m\u001b[0;34m)\u001b[0m\u001b[0;34m\u001b[0m\u001b[0;34m\u001b[0m\u001b[0m\n\u001b[0m\u001b[1;32m   1864\u001b[0m \u001b[0;34m\u001b[0m\u001b[0m\n\u001b[1;32m   1865\u001b[0m         \u001b[0;31m# Let's create an ID that uniquely identifies the current call. If the\u001b[0m\u001b[0;34m\u001b[0m\u001b[0;34m\u001b[0m\u001b[0m\n",
            "\u001b[0;32m/usr/local/lib/python3.10/dist-packages/joblib/parallel.py\u001b[0m in \u001b[0;36m_get_sequential_output\u001b[0;34m(self, iterable)\u001b[0m\n\u001b[1;32m   1790\u001b[0m                 \u001b[0mself\u001b[0m\u001b[0;34m.\u001b[0m\u001b[0mn_dispatched_batches\u001b[0m \u001b[0;34m+=\u001b[0m \u001b[0;36m1\u001b[0m\u001b[0;34m\u001b[0m\u001b[0;34m\u001b[0m\u001b[0m\n\u001b[1;32m   1791\u001b[0m                 \u001b[0mself\u001b[0m\u001b[0;34m.\u001b[0m\u001b[0mn_dispatched_tasks\u001b[0m \u001b[0;34m+=\u001b[0m \u001b[0;36m1\u001b[0m\u001b[0;34m\u001b[0m\u001b[0;34m\u001b[0m\u001b[0m\n\u001b[0;32m-> 1792\u001b[0;31m                 \u001b[0mres\u001b[0m \u001b[0;34m=\u001b[0m \u001b[0mfunc\u001b[0m\u001b[0;34m(\u001b[0m\u001b[0;34m*\u001b[0m\u001b[0margs\u001b[0m\u001b[0;34m,\u001b[0m \u001b[0;34m**\u001b[0m\u001b[0mkwargs\u001b[0m\u001b[0;34m)\u001b[0m\u001b[0;34m\u001b[0m\u001b[0;34m\u001b[0m\u001b[0m\n\u001b[0m\u001b[1;32m   1793\u001b[0m                 \u001b[0mself\u001b[0m\u001b[0;34m.\u001b[0m\u001b[0mn_completed_tasks\u001b[0m \u001b[0;34m+=\u001b[0m \u001b[0;36m1\u001b[0m\u001b[0;34m\u001b[0m\u001b[0;34m\u001b[0m\u001b[0m\n\u001b[1;32m   1794\u001b[0m                 \u001b[0mself\u001b[0m\u001b[0;34m.\u001b[0m\u001b[0mprint_progress\u001b[0m\u001b[0;34m(\u001b[0m\u001b[0;34m)\u001b[0m\u001b[0;34m\u001b[0m\u001b[0;34m\u001b[0m\u001b[0m\n",
            "\u001b[0;32m/usr/local/lib/python3.10/dist-packages/sklearn/utils/parallel.py\u001b[0m in \u001b[0;36m__call__\u001b[0;34m(self, *args, **kwargs)\u001b[0m\n\u001b[1;32m    121\u001b[0m             \u001b[0mconfig\u001b[0m \u001b[0;34m=\u001b[0m \u001b[0;34m{\u001b[0m\u001b[0;34m}\u001b[0m\u001b[0;34m\u001b[0m\u001b[0;34m\u001b[0m\u001b[0m\n\u001b[1;32m    122\u001b[0m         \u001b[0;32mwith\u001b[0m \u001b[0mconfig_context\u001b[0m\u001b[0;34m(\u001b[0m\u001b[0;34m**\u001b[0m\u001b[0mconfig\u001b[0m\u001b[0;34m)\u001b[0m\u001b[0;34m:\u001b[0m\u001b[0;34m\u001b[0m\u001b[0;34m\u001b[0m\u001b[0m\n\u001b[0;32m--> 123\u001b[0;31m             \u001b[0;32mreturn\u001b[0m \u001b[0mself\u001b[0m\u001b[0;34m.\u001b[0m\u001b[0mfunction\u001b[0m\u001b[0;34m(\u001b[0m\u001b[0;34m*\u001b[0m\u001b[0margs\u001b[0m\u001b[0;34m,\u001b[0m \u001b[0;34m**\u001b[0m\u001b[0mkwargs\u001b[0m\u001b[0;34m)\u001b[0m\u001b[0;34m\u001b[0m\u001b[0;34m\u001b[0m\u001b[0m\n\u001b[0m",
            "\u001b[0;32m/usr/local/lib/python3.10/dist-packages/sklearn/ensemble/_base.py\u001b[0m in \u001b[0;36m_fit_single_estimator\u001b[0;34m(estimator, X, y, sample_weight, message_clsname, message)\u001b[0m\n\u001b[1;32m     44\u001b[0m     \u001b[0;32melse\u001b[0m\u001b[0;34m:\u001b[0m\u001b[0;34m\u001b[0m\u001b[0;34m\u001b[0m\u001b[0m\n\u001b[1;32m     45\u001b[0m         \u001b[0;32mwith\u001b[0m \u001b[0m_print_elapsed_time\u001b[0m\u001b[0;34m(\u001b[0m\u001b[0mmessage_clsname\u001b[0m\u001b[0;34m,\u001b[0m \u001b[0mmessage\u001b[0m\u001b[0;34m)\u001b[0m\u001b[0;34m:\u001b[0m\u001b[0;34m\u001b[0m\u001b[0;34m\u001b[0m\u001b[0m\n\u001b[0;32m---> 46\u001b[0;31m             \u001b[0mestimator\u001b[0m\u001b[0;34m.\u001b[0m\u001b[0mfit\u001b[0m\u001b[0;34m(\u001b[0m\u001b[0mX\u001b[0m\u001b[0;34m,\u001b[0m \u001b[0my\u001b[0m\u001b[0;34m)\u001b[0m\u001b[0;34m\u001b[0m\u001b[0;34m\u001b[0m\u001b[0m\n\u001b[0m\u001b[1;32m     47\u001b[0m     \u001b[0;32mreturn\u001b[0m \u001b[0mestimator\u001b[0m\u001b[0;34m\u001b[0m\u001b[0;34m\u001b[0m\u001b[0m\n\u001b[1;32m     48\u001b[0m \u001b[0;34m\u001b[0m\u001b[0m\n",
            "\u001b[0;32m/usr/local/lib/python3.10/dist-packages/xgboost/core.py\u001b[0m in \u001b[0;36minner_f\u001b[0;34m(*args, **kwargs)\u001b[0m\n\u001b[1;32m    618\u001b[0m             \u001b[0;32mfor\u001b[0m \u001b[0mk\u001b[0m\u001b[0;34m,\u001b[0m \u001b[0marg\u001b[0m \u001b[0;32min\u001b[0m \u001b[0mzip\u001b[0m\u001b[0;34m(\u001b[0m\u001b[0msig\u001b[0m\u001b[0;34m.\u001b[0m\u001b[0mparameters\u001b[0m\u001b[0;34m,\u001b[0m \u001b[0margs\u001b[0m\u001b[0;34m)\u001b[0m\u001b[0;34m:\u001b[0m\u001b[0;34m\u001b[0m\u001b[0;34m\u001b[0m\u001b[0m\n\u001b[1;32m    619\u001b[0m                 \u001b[0mkwargs\u001b[0m\u001b[0;34m[\u001b[0m\u001b[0mk\u001b[0m\u001b[0;34m]\u001b[0m \u001b[0;34m=\u001b[0m \u001b[0marg\u001b[0m\u001b[0;34m\u001b[0m\u001b[0;34m\u001b[0m\u001b[0m\n\u001b[0;32m--> 620\u001b[0;31m             \u001b[0;32mreturn\u001b[0m \u001b[0mfunc\u001b[0m\u001b[0;34m(\u001b[0m\u001b[0;34m**\u001b[0m\u001b[0mkwargs\u001b[0m\u001b[0;34m)\u001b[0m\u001b[0;34m\u001b[0m\u001b[0;34m\u001b[0m\u001b[0m\n\u001b[0m\u001b[1;32m    621\u001b[0m \u001b[0;34m\u001b[0m\u001b[0m\n\u001b[1;32m    622\u001b[0m         \u001b[0;32mreturn\u001b[0m \u001b[0minner_f\u001b[0m\u001b[0;34m\u001b[0m\u001b[0;34m\u001b[0m\u001b[0m\n",
            "\u001b[0;32m/usr/local/lib/python3.10/dist-packages/xgboost/sklearn.py\u001b[0m in \u001b[0;36mfit\u001b[0;34m(self, X, y, sample_weight, base_margin, eval_set, eval_metric, early_stopping_rounds, verbose, xgb_model, sample_weight_eval_set, base_margin_eval_set, feature_weights, callbacks)\u001b[0m\n\u001b[1;32m   1488\u001b[0m             )\n\u001b[1;32m   1489\u001b[0m \u001b[0;34m\u001b[0m\u001b[0m\n\u001b[0;32m-> 1490\u001b[0;31m             self._Booster = train(\n\u001b[0m\u001b[1;32m   1491\u001b[0m                 \u001b[0mparams\u001b[0m\u001b[0;34m,\u001b[0m\u001b[0;34m\u001b[0m\u001b[0;34m\u001b[0m\u001b[0m\n\u001b[1;32m   1492\u001b[0m                 \u001b[0mtrain_dmatrix\u001b[0m\u001b[0;34m,\u001b[0m\u001b[0;34m\u001b[0m\u001b[0;34m\u001b[0m\u001b[0m\n",
            "\u001b[0;32m/usr/local/lib/python3.10/dist-packages/xgboost/core.py\u001b[0m in \u001b[0;36minner_f\u001b[0;34m(*args, **kwargs)\u001b[0m\n\u001b[1;32m    618\u001b[0m             \u001b[0;32mfor\u001b[0m \u001b[0mk\u001b[0m\u001b[0;34m,\u001b[0m \u001b[0marg\u001b[0m \u001b[0;32min\u001b[0m \u001b[0mzip\u001b[0m\u001b[0;34m(\u001b[0m\u001b[0msig\u001b[0m\u001b[0;34m.\u001b[0m\u001b[0mparameters\u001b[0m\u001b[0;34m,\u001b[0m \u001b[0margs\u001b[0m\u001b[0;34m)\u001b[0m\u001b[0;34m:\u001b[0m\u001b[0;34m\u001b[0m\u001b[0;34m\u001b[0m\u001b[0m\n\u001b[1;32m    619\u001b[0m                 \u001b[0mkwargs\u001b[0m\u001b[0;34m[\u001b[0m\u001b[0mk\u001b[0m\u001b[0;34m]\u001b[0m \u001b[0;34m=\u001b[0m \u001b[0marg\u001b[0m\u001b[0;34m\u001b[0m\u001b[0;34m\u001b[0m\u001b[0m\n\u001b[0;32m--> 620\u001b[0;31m             \u001b[0;32mreturn\u001b[0m \u001b[0mfunc\u001b[0m\u001b[0;34m(\u001b[0m\u001b[0;34m**\u001b[0m\u001b[0mkwargs\u001b[0m\u001b[0;34m)\u001b[0m\u001b[0;34m\u001b[0m\u001b[0;34m\u001b[0m\u001b[0m\n\u001b[0m\u001b[1;32m    621\u001b[0m \u001b[0;34m\u001b[0m\u001b[0m\n\u001b[1;32m    622\u001b[0m         \u001b[0;32mreturn\u001b[0m \u001b[0minner_f\u001b[0m\u001b[0;34m\u001b[0m\u001b[0;34m\u001b[0m\u001b[0m\n",
            "\u001b[0;32m/usr/local/lib/python3.10/dist-packages/xgboost/training.py\u001b[0m in \u001b[0;36mtrain\u001b[0;34m(params, dtrain, num_boost_round, evals, obj, feval, maximize, early_stopping_rounds, evals_result, verbose_eval, xgb_model, callbacks, custom_metric)\u001b[0m\n\u001b[1;32m    183\u001b[0m         \u001b[0;32mif\u001b[0m \u001b[0mcb_container\u001b[0m\u001b[0;34m.\u001b[0m\u001b[0mbefore_iteration\u001b[0m\u001b[0;34m(\u001b[0m\u001b[0mbst\u001b[0m\u001b[0;34m,\u001b[0m \u001b[0mi\u001b[0m\u001b[0;34m,\u001b[0m \u001b[0mdtrain\u001b[0m\u001b[0;34m,\u001b[0m \u001b[0mevals\u001b[0m\u001b[0;34m)\u001b[0m\u001b[0;34m:\u001b[0m\u001b[0;34m\u001b[0m\u001b[0;34m\u001b[0m\u001b[0m\n\u001b[1;32m    184\u001b[0m             \u001b[0;32mbreak\u001b[0m\u001b[0;34m\u001b[0m\u001b[0;34m\u001b[0m\u001b[0m\n\u001b[0;32m--> 185\u001b[0;31m         \u001b[0mbst\u001b[0m\u001b[0;34m.\u001b[0m\u001b[0mupdate\u001b[0m\u001b[0;34m(\u001b[0m\u001b[0mdtrain\u001b[0m\u001b[0;34m,\u001b[0m \u001b[0mi\u001b[0m\u001b[0;34m,\u001b[0m \u001b[0mobj\u001b[0m\u001b[0;34m)\u001b[0m\u001b[0;34m\u001b[0m\u001b[0;34m\u001b[0m\u001b[0m\n\u001b[0m\u001b[1;32m    186\u001b[0m         \u001b[0;32mif\u001b[0m \u001b[0mcb_container\u001b[0m\u001b[0;34m.\u001b[0m\u001b[0mafter_iteration\u001b[0m\u001b[0;34m(\u001b[0m\u001b[0mbst\u001b[0m\u001b[0;34m,\u001b[0m \u001b[0mi\u001b[0m\u001b[0;34m,\u001b[0m \u001b[0mdtrain\u001b[0m\u001b[0;34m,\u001b[0m \u001b[0mevals\u001b[0m\u001b[0;34m)\u001b[0m\u001b[0;34m:\u001b[0m\u001b[0;34m\u001b[0m\u001b[0;34m\u001b[0m\u001b[0m\n\u001b[1;32m    187\u001b[0m             \u001b[0;32mbreak\u001b[0m\u001b[0;34m\u001b[0m\u001b[0;34m\u001b[0m\u001b[0m\n",
            "\u001b[0;32m/usr/local/lib/python3.10/dist-packages/xgboost/core.py\u001b[0m in \u001b[0;36mupdate\u001b[0;34m(self, dtrain, iteration, fobj)\u001b[0m\n\u001b[1;32m   1916\u001b[0m \u001b[0;34m\u001b[0m\u001b[0m\n\u001b[1;32m   1917\u001b[0m         \u001b[0;32mif\u001b[0m \u001b[0mfobj\u001b[0m \u001b[0;32mis\u001b[0m \u001b[0;32mNone\u001b[0m\u001b[0;34m:\u001b[0m\u001b[0;34m\u001b[0m\u001b[0;34m\u001b[0m\u001b[0m\n\u001b[0;32m-> 1918\u001b[0;31m             _check_call(_LIB.XGBoosterUpdateOneIter(self.handle,\n\u001b[0m\u001b[1;32m   1919\u001b[0m                                                     \u001b[0mctypes\u001b[0m\u001b[0;34m.\u001b[0m\u001b[0mc_int\u001b[0m\u001b[0;34m(\u001b[0m\u001b[0miteration\u001b[0m\u001b[0;34m)\u001b[0m\u001b[0;34m,\u001b[0m\u001b[0;34m\u001b[0m\u001b[0;34m\u001b[0m\u001b[0m\n\u001b[1;32m   1920\u001b[0m                                                     dtrain.handle))\n",
            "\u001b[0;32m/usr/local/lib/python3.10/dist-packages/xgboost/core.py\u001b[0m in \u001b[0;36m_check_call\u001b[0;34m(ret)\u001b[0m\n\u001b[1;32m    277\u001b[0m     \"\"\"\n\u001b[1;32m    278\u001b[0m     \u001b[0;32mif\u001b[0m \u001b[0mret\u001b[0m \u001b[0;34m!=\u001b[0m \u001b[0;36m0\u001b[0m\u001b[0;34m:\u001b[0m\u001b[0;34m\u001b[0m\u001b[0;34m\u001b[0m\u001b[0m\n\u001b[0;32m--> 279\u001b[0;31m         \u001b[0;32mraise\u001b[0m \u001b[0mXGBoostError\u001b[0m\u001b[0;34m(\u001b[0m\u001b[0mpy_str\u001b[0m\u001b[0;34m(\u001b[0m\u001b[0m_LIB\u001b[0m\u001b[0;34m.\u001b[0m\u001b[0mXGBGetLastError\u001b[0m\u001b[0;34m(\u001b[0m\u001b[0;34m)\u001b[0m\u001b[0;34m)\u001b[0m\u001b[0;34m)\u001b[0m\u001b[0;34m\u001b[0m\u001b[0;34m\u001b[0m\u001b[0m\n\u001b[0m\u001b[1;32m    280\u001b[0m \u001b[0;34m\u001b[0m\u001b[0m\n\u001b[1;32m    281\u001b[0m \u001b[0;34m\u001b[0m\u001b[0m\n",
            "\u001b[0;31mXGBoostError\u001b[0m: [10:58:24] ../src/objective/objective.cc:26: Unknown objective function: `{'objective': 'binary:logistic', 'min_child_weight': 7, 'subsample': 0.577, 'max_depth': 10, 'reg_lambda': 0.377, 'learning_rate': 0.017, 'colsample_bytree': 0.974, 'reg_alpha': 0.206, 'eval_metric': 'logloss', 'scale_pos_weight': 0.999390185993272}`\nObjective candidate: survival:aft\nObjective candidate: binary:hinge\nObjective candidate: multi:softmax\nObjective candidate: multi:softprob\nObjective candidate: rank:pairwise\nObjective candidate: rank:ndcg\nObjective candidate: rank:map\nObjective candidate: reg:squarederror\nObjective candidate: reg:squaredlogerror\nObjective candidate: reg:logistic\nObjective candidate: binary:logistic\nObjective candidate: binary:logitraw\nObjective candidate: reg:linear\nObjective candidate: reg:pseudohubererror\nObjective candidate: count:poisson\nObjective candidate: survival:cox\nObjective candidate: reg:gamma\nObjective candidate: reg:tweedie\nObjective candidate: reg:absoluteerror\n\nStack trace:\n  [bt] (0) /usr/local/lib/python3.10/dist-packages/xgboost/lib/libxgboost.so(+0x3708b3) [0x7868121708b3]\n  [bt] (1) /usr/local/lib/python3.10/dist-packages/xgboost/lib/libxgboost.so(+0x370f8f) [0x786812170f8f]\n  [bt] (2) /usr/local/lib/python3.10/dist-packages/xgboost/lib/libxgboost.so(+0x2e543c) [0x7868120e543c]\n  [bt] (3) /usr/local/lib/python3.10/dist-packages/xgboost/lib/libxgboost.so(+0x2ebfd7) [0x7868120ebfd7]\n  [bt] (4) /usr/local/lib/python3.10/dist-packages/xgboost/lib/libxgboost.so(+0x2e02f8) [0x7868120e02f8]\n  [bt] (5) /usr/local/lib/python3.10/dist-packages/xgboost/lib/libxgboost.so(XGBoosterUpdateOneIter+0x70) [0x786811f3c5a0]\n  [bt] (6) /lib/x86_64-linux-gnu/libffi.so.8(+0x7e2e) [0x786abb8e6e2e]\n  [bt] (7) /lib/x86_64-linux-gnu/libffi.so.8(+0x4493) [0x786abb8e3493]\n  [bt] (8) /usr/lib/python3.10/lib-dynload/_ctypes.cpython-310-x86_64-linux-gnu.so(+0xa3e9) [0x786abb90c3e9]\n\n"
          ]
        }
      ]
    },
    {
      "cell_type": "code",
      "source": [],
      "metadata": {
        "id": "-LmjDPN60IDn"
      },
      "execution_count": 48,
      "outputs": []
    },
    {
      "cell_type": "markdown",
      "source": [],
      "metadata": {
        "id": "W-WeukFJgq9l"
      }
    },
    {
      "cell_type": "code",
      "source": [
        "import pandas as pd\n",
        "import numpy as np\n",
        "# For Bayesian hyper-parameter optimization\n",
        "import hyperopt\n",
        "from xgboost import XGBClassifier\n",
        "from sklearn.model_selection import train_test_split, cross_val_score, cross_val_predict\n",
        "from sklearn.metrics import make_scorer, precision_recall_curve, recall_score, precision_score\n",
        "from functools import partial\n",
        "# To supress a deprecation warning caused due to an issue between XGBoost and SciPy\n",
        "import warnings\n",
        "\n",
        "MIN_PRECISION = 0.05\n",
        "\n",
        "# The current version of XGBoost uses a conditional statement that\n",
        "# the current version SciPy (internally used by XGBoost) doesn't like.\n",
        "# This supresses SciPy's deprecation warning message\n",
        "warnings.filterwarnings('ignore', category = DeprecationWarning)\n",
        "\n"
      ],
      "metadata": {
        "id": "rEVCisbB0Lvs"
      },
      "execution_count": 49,
      "outputs": []
    },
    {
      "cell_type": "code",
      "source": [],
      "metadata": {
        "id": "AwZPAwqr9F3v"
      },
      "execution_count": 49,
      "outputs": []
    },
    {
      "cell_type": "markdown",
      "source": [
        "\n",
        "**Defining the Objective Function for Hyperopt**\n",
        "\n",
        "To enable Hyperopt to optimize the model, it's essential to establish the objective function for optimization. In this context, the objective function is essentially the cross-validated score of the model, based on the specified hyperparameter combination we aim to assess."
      ],
      "metadata": {
        "id": "hNju720o34JO"
      }
    },
    {
      "cell_type": "code",
      "source": [
        "def objective(params, X, y, X_early_stop, y_early_stop, scorer, n_folds = 10):\n",
        "\n",
        "    pos_count = y_train.sum()\n",
        "    neg_count = len(y_train) - pos_count\n",
        "    imbalance_ratio = neg_count / pos_count\n",
        "\n",
        "    xgb_clf = XGBClassifier(**params, scale_pos_weight=imbalance_ratio,\n",
        "                            n_estimators = 2000, n_jobs = 1)\n",
        "\n",
        "    xgb_fit_params = {'early_stopping_rounds': 50,\n",
        "                      'eval_metric': ['logloss'],\n",
        "                      'eval_set': [(X_early_stop, y_early_stop)],\n",
        "                      'verbose': False\n",
        "                      }\n",
        "\n",
        "    cv_score = np.mean(cross_val_score(xgb_clf, X_train, y_train, cv = n_folds,\n",
        "                               fit_params = xgb_fit_params, n_jobs = -1,\n",
        "                               scoring = scorer))\n",
        "\n",
        "    # hypoeropt minimizes the loss, hence the minus sign behind cv_score\n",
        "    return {'loss': -cv_score, 'status': hyperopt.STATUS_OK, 'params': params}"
      ],
      "metadata": {
        "id": "d1RkZ2hi9MOz"
      },
      "execution_count": 50,
      "outputs": []
    },
    {
      "cell_type": "code",
      "source": [],
      "metadata": {
        "id": "nRHYQ3z89NTF"
      },
      "execution_count": 50,
      "outputs": []
    },
    {
      "cell_type": "markdown",
      "source": [
        "**Evaluation Metric**\n",
        "\n",
        "The Conditional Recall metric, which will be incorporated using the scorer argument in the objective function, is outlined as follows. It essentially extracts the recall rate corresponding to the provided precision level from the precision-recall curve. The default precision level (utilized for all reported results here) is fixed at 0.05, but it can be adjusted as required."
      ],
      "metadata": {
        "id": "rdMLzmeG4OZ_"
      }
    },
    {
      "cell_type": "code",
      "source": [
        "def conditional_recall_score(y_true, pred_proba, precision = MIN_PRECISION):\n",
        "    # Since the PR curve is discreet it might not contain the exact precision value given\n",
        "    # So we first find the closest existing precision to the given level\n",
        "    # Then return the highest recall acheiveable at that precision level\n",
        "    # Taking max() helps in case PR curve is locally flat\n",
        "    # with multiple recall values for the same precision\n",
        "    pr, rc,_ = precision_recall_curve(y_true, pred_proba[:,1])\n",
        "    return np.max(rc[pr >= min_prec])"
      ],
      "metadata": {
        "id": "ovEbmqpg9NzQ"
      },
      "execution_count": 53,
      "outputs": []
    },
    {
      "cell_type": "code",
      "source": [],
      "metadata": {
        "id": "88fIUXTA9ROb"
      },
      "execution_count": null,
      "outputs": []
    },
    {
      "cell_type": "markdown",
      "source": [
        "**Optimizing the Cross Validated Score**\n",
        "\n",
        "Next, we'll integrate these components and utilize Hyperopt's optimization function, fmin, to explore the most favorable parameter combination. I'll create a new function that executes this optimization and provides the parameters that yield the highest cross-validated score."
      ],
      "metadata": {
        "id": "iRRjAr6p4a1E"
      }
    },
    {
      "cell_type": "code",
      "source": [
        "def tune_xgb(param_space, X_train, y_train, X_early_stop, y_early_stop, n_iter):\n",
        "    scorer = make_scorer(conditional_recall_score, needs_proba=True)\n",
        "\n",
        "    # hyperopt.fmin will only pass the parameter values to objective. So we need to\n",
        "    # create a partial function to bind the rest of the arguments we want to pass to objective\n",
        "    obj = partial(objective, scorer = scorer, X = X_train, y = y_train,\n",
        "                  X_early_stop = X_early_stop, y_early_stop = y_early_stop)\n",
        "\n",
        "    # A trials object that will store the results of all iterations\n",
        "    trials = hyperopt.Trials()\n",
        "\n",
        "    hyperopt.fmin(fn = obj, space = param_space, algo = hyperopt.tpe.suggest,\n",
        "                         max_evals = n_iter, trials = trials)\n",
        "\n",
        "    # returns the values of parameters from the best trial\n",
        "    return trials.best_trial['result']['params']"
      ],
      "metadata": {
        "id": "GRMFCHaj9Smr"
      },
      "execution_count": 54,
      "outputs": []
    },
    {
      "cell_type": "code",
      "source": [],
      "metadata": {
        "id": "G2DpexXz9VrD"
      },
      "execution_count": null,
      "outputs": []
    },
    {
      "cell_type": "markdown",
      "source": [
        "**Parameter Space Specification**\n",
        "\n",
        "As previously mentioned, Bayesian optimization relies on assuming an initial probability distribution for parameters and refining this distribution with each iteration. Therefore, instead of providing a list of values as in a grid search, we need to specify the prior distributions of parameters. This can be achieved using Hyperopt's built-in probability distribution functions. The dictionary object below outlines the parameter space:"
      ],
      "metadata": {
        "id": "jMPjPFvF4qsa"
      }
    },
    {
      "cell_type": "code",
      "source": [
        "param_space = {\n",
        "        'learning_rate': hyperopt.hp.loguniform('learning_rate', np.log(0.01), np.log(0.2)),\n",
        "        'max_depth': hyperopt.hp.choice('max_depth', [2, 4, 6, 8, 10]),\n",
        "        'subsample': hyperopt.hp.uniform('subsample', 0.25, 1),\n",
        "        'colsample_bytree': hyperopt.hp.uniform('colsample_bytree', 0.7, 1.0),\n",
        "        'min_child_weight': hyperopt.hp.choice('min_child_weight', [1, 3, 5, 7]),\n",
        "        'reg_alpha': hyperopt.hp.uniform('reg_alhpa', 0, 1.0),\n",
        "        # Avoiding lambda = 0. There is a Github issue on strange behaviour with lambda = 0\n",
        "        'reg_lambda': hyperopt.hp.uniform('reg_lambda', 0.01, 1.0),\n",
        "        }"
      ],
      "metadata": {
        "id": "GwBLN6i89WWE"
      },
      "execution_count": 55,
      "outputs": []
    },
    {
      "cell_type": "code",
      "source": [],
      "metadata": {
        "id": "3oD8Kzfc9aZG"
      },
      "execution_count": null,
      "outputs": []
    },
    {
      "cell_type": "code",
      "source": [
        "def optimal_threshold(estimator, X, y, n_folds = 10, min_prec = 0.05, fit_params = None):\n",
        "\n",
        "    cv_pred_prob = cross_val_predict(estimator, X, y, method='predict_proba',\n",
        "                                     cv = n_folds, fit_params=fit_params, n_jobs=-1)[:,1]\n",
        "\n",
        "    # Once again, the PR curve is discreet and may not contain the exact precision level\n",
        "    # we are looking for. So, we need to find the closest existing precision\n",
        "    pr, _, threshold = precision_recall_curve(y, cv_pred_prob)\n",
        "    # precision is always one element longer than threshold and the last one is always set to 1\n",
        "    # So I drop the last element of precision so I can use it below to index threshold\n",
        "    pr = pr[:-1]\n",
        "    return min(threshold[pr >= min_prec])"
      ],
      "metadata": {
        "id": "GIwKPqU59azV"
      },
      "execution_count": 56,
      "outputs": []
    },
    {
      "cell_type": "code",
      "source": [],
      "metadata": {
        "id": "6OeHV8YA9ewJ"
      },
      "execution_count": null,
      "outputs": []
    },
    {
      "cell_type": "code",
      "source": [
        "if __name__ == \"__main__\":\n",
        "    # Loading the data\n",
        "    # data = pd.read_csv('creditcard.csv')\n",
        "    # X = data.drop('Class', axis = 1)\n",
        "    # y = data['Class']\n",
        "\n",
        "    # # Train/test split, 80/20, random_state set for reproducibility\n",
        "    # X_train, X_test, y_train, y_test = train_test_split(X, y, stratify = y,\n",
        "    #                                                     test_size = 0.2, random_state = 1)\n",
        "\n",
        "    # Further splitting the initial training set so that 10% of all data(1/8 of 80%)\n",
        "    # can be used as the evaluation set by XGBoost for early stopping\n",
        "    X_train, X_early_stop, y_train, y_early_stop = train_test_split(X_train, y_train,test_size = 1/8,\n",
        "                                                                    stratify = y_train, random_state = 1)\n",
        "\n",
        "    # The prior probability distribution of parameters for Bayesian optimization\n",
        "    param_space = {\n",
        "            'learning_rate': hyperopt.hp.loguniform('learning_rate', np.log(0.01), np.log(0.2)),\n",
        "            'max_depth': hyperopt.hp.choice('max_depth', [2, 4, 6, 8, 10]),\n",
        "            'subsample': hyperopt.hp.uniform('subsample', 0.25, 1),\n",
        "            'colsample_bytree': hyperopt.hp.uniform('colsample_bytree', 0.7, 1.0),\n",
        "            'min_child_weight': hyperopt.hp.choice('min_child_weight', [1, 3, 5, 7]),\n",
        "            'reg_alpha': hyperopt.hp.uniform('reg_alhpa', 0, 1.0),\n",
        "            # Avoiding lambda = 0. There is a Github issue on strange behaviour with lambda = 0\n",
        "            'reg_lambda': hyperopt.hp.uniform('reg_lambda', 0.01, 1.0),\n",
        "            }\n",
        "\n",
        "    # # # # # # # # #\n",
        "    # Step 1: Tuning hyper-parameters of the XGBoost classifier\n",
        "    # # # # # # # # #\n",
        "    print('Step 1: Tuning hyper-parameters using Bayesian Optimization\\n')\n",
        "\n",
        "    best_params = tune_xgb(param_space, X_train, y_train, X_early_stop, y_early_stop, n_iter = 150)\n",
        "\n",
        "    print('\\tThe best hyper-parameters found:\\n')\n",
        "    print(*['\\t\\t%s = %s' % (k, str(round(v, 4))) for k, v in best_params.items()], sep='\\n')\n",
        "\n",
        "    # # # # # # # # #\n",
        "    # Step 2: Empirical thresholding: finding optimal classification threshold\n",
        "    # # # # # # # # #\n",
        "    print('\\nStep 2: Empirical Thresholding\\n')\n",
        "\n",
        "    # I use 1500 trees which is very close to optimal n_trees found by early stopping while tuning\n",
        "    xgboost_clf = XGBClassifier(**best_params, n_estimators=1500)\n",
        "\n",
        "    classification_cutoff = optimal_threshold(xgboost_clf, X_train, y_train, min_prec = MIN_PRECISION)\n",
        "\n",
        "    print('\\tOptimal classification threshold = %1.3f' % classification_cutoff)\n",
        "\n",
        "    # # # # # # # # #\n",
        "    # Setp 3: Training and testing the model\n",
        "    # # # # # # # # #\n",
        "    print('\\nStep 3: Training and testing the model\\n')\n",
        "\n",
        "    # Training on all the training data (excluding the small validation set to avoid overfitting)\n",
        "    xgboost_clf.fit(X_train, y_train, verbose = False)\n",
        "\n",
        "    y_pred = thresholded_predict(X_test, xgboost_clf, threshold = classification_cutoff)\n",
        "\n",
        "    test_recall = recall_score(y_test, y_pred)\n",
        "    test_precision = precision_score(y_test, y_pred)\n",
        "\n",
        "    print('\\tTest set performance:')\n",
        "    print('\\tRecall    = %2.3f' % test_recall)\n",
        "    print('\\tPrecision = %2.3f' % test_precision)"
      ],
      "metadata": {
        "colab": {
          "base_uri": "https://localhost:8080/"
        },
        "id": "zg5JRHiv9ffX",
        "outputId": "953fe38c-1a68-4fd3-b592-51300f15026b"
      },
      "execution_count": null,
      "outputs": [
        {
          "output_type": "stream",
          "name": "stdout",
          "text": [
            "Step 1: Tuning hyper-parameters using Bayesian Optimization\n",
            "\n",
            " 32%|███▏      | 48/150 [3:58:26<8:44:48, 308.71s/trial, best loss=?]"
          ]
        }
      ]
    },
    {
      "cell_type": "code",
      "source": [],
      "metadata": {
        "id": "mh8ULpiN9jH3"
      },
      "execution_count": null,
      "outputs": []
    },
    {
      "cell_type": "code",
      "source": [
        "from sklearn.linear_model import LogisticRegression\n",
        "from sklearn.preprocessing import StandardScaler\n",
        "from imblearn.pipeline import Pipeline\n",
        "from imblearn.over_sampling import SMOTE\n",
        "from sklearn.metrics import precision_recall_curve, auc, make_scorer\n",
        "from sklearn.model_selection import GridSearchCV\n",
        "\n",
        "logistic_clf = Pipeline(steps = [('Scaler', StandardScaler()),\n",
        "                                 ('Sampler', SMOTE()),\n",
        "                                 ('Logistic', LogisticRegression())])\n",
        "\n",
        "param_grid = {'Logistic__C': [0.0001, 0.001, 0.01, 0.1, 1, 10, 100]}\n",
        "\n",
        "scorer = make_scorer(recall_at_precision, needs_proba=True)\n",
        "\n",
        "grid_search = GridSearchCV(logistic_clf, param_grid, cv = 10,\n",
        "                           scoring = scorer, refit = True, n_jobs=-1)\n",
        "\n",
        "grid_search.fit(X_train_all, y_train_all)\n",
        "\n",
        "# Because of refit = True in GridSearchCV the best estimator has already been fitted to training data\n",
        "scores = grid_search.best_estimator_.predict_proba(X_test)[:,1]\n",
        "pr, rc, thrs = precision_recall_curve(y_test, scores)\n",
        "pr_auc = auc(rc, pr)"
      ],
      "metadata": {
        "id": "Z0pfSg1J9jmz"
      },
      "execution_count": null,
      "outputs": []
    },
    {
      "cell_type": "code",
      "source": [],
      "metadata": {
        "id": "QLANZRxG9pM7"
      },
      "execution_count": null,
      "outputs": []
    },
    {
      "cell_type": "code",
      "source": [
        "from sklearn.ensemble import RandomForestClassifier\n",
        "from sklearn.metrics import precision_recall_curve, auc, make_scorer\n",
        "from sklearn.model_selection import GridSearchCV\n",
        "\n",
        "forest_clf = RandomForestClassifier(n_estimators=100, class_weight='balanced', n_jobs=-1)\n",
        "\n",
        "param_grid = {'max_features': [None, 'sqrt', 15],\n",
        "              'min_samples_leaf': [1, 20, 50, 100],\n",
        "              'max_depth': [4, 10, 20, None]}\n",
        "\n",
        "grid_search = GridSearchCV(forest_clf, param_grid, cv = 10,\n",
        "                           scoring = scorer, refit=True)\n",
        "\n",
        "grid_search.fit(X_train_all, y_train_all)\n",
        "\n",
        "scores = grid_search.best_estimator_.predict_proba(X_test)[:,1]\n",
        "pr, rc, thrs = precision_recall_curve(y_test, scores)\n",
        "pr_auc = auc(rc, pr)"
      ],
      "metadata": {
        "id": "ybfGV8k09pqC"
      },
      "execution_count": null,
      "outputs": []
    },
    {
      "cell_type": "code",
      "source": [],
      "metadata": {
        "id": "BuaqcudF9stw"
      },
      "execution_count": null,
      "outputs": []
    },
    {
      "cell_type": "code",
      "source": [],
      "metadata": {
        "id": "BigFTnW59tEd"
      },
      "execution_count": null,
      "outputs": []
    }
  ],
  "metadata": {
    "colab": {
      "provenance": [],
      "gpuType": "T4",
      "authorship_tag": "ABX9TyMDRCAFpzIFXO6XYHBNaqOQ",
      "include_colab_link": true
    },
    "kernelspec": {
      "display_name": "Python 3",
      "name": "python3"
    },
    "language_info": {
      "name": "python"
    },
    "accelerator": "GPU"
  },
  "nbformat": 4,
  "nbformat_minor": 0
}