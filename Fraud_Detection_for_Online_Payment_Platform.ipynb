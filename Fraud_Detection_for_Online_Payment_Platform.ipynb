{
  "cells": [
    {
      "cell_type": "markdown",
      "metadata": {
        "id": "view-in-github",
        "colab_type": "text"
      },
      "source": [
        "<a href=\"https://colab.research.google.com/github/Habeebhassan/Online_Fraud_Detection/blob/main/Fraud_Detection_for_Online_Payment_Platform.ipynb\" target=\"_parent\"><img src=\"https://colab.research.google.com/assets/colab-badge.svg\" alt=\"Open In Colab\"/></a>"
      ]
    },
    {
      "cell_type": "markdown",
      "metadata": {
        "id": "nRsqjex5ml89"
      },
      "source": [
        "Introduction\n",
        "\n",
        "Online transactions have become increasingly popular, and this trend is expected to continue in the future, according to various surveys and research. However, this growth has also led to an increase in fraudulent transactions. Despite the implementation of various security systems, a significant amount of money is still being lost due to fraudulent transactions. Online fraud transactions occur when a person uses someone else’s credit card for personal reasons without the owner or the card-issuing authorities being aware of it. This project aims to address this issue."
      ]
    },
    {
      "cell_type": "markdown",
      "metadata": {
        "id": "GIkzDeAdnY_2"
      },
      "source": [
        "**Project Scope**\n",
        "\n",
        "The Online Fraud Transaction Detection System is an extension of an existing system. The algorithms built using this system will go through the dataset and provide the appropriate output. In the long run, this system will be beneficial as it provides an efficient way to create a secure transaction system to analyze and detect fraudulent transactions. The Proposed algorithm algorithm used in this project is XGBOOST. Xgboost algorithm is a popular and efficient open-source implementation of the gradient boosted trees algorithm. Gradient boosting is a supervised learning algorithm that attempts to accurately predict a target variable by combining the estimates of a set of simpler, weaker models. This accuracy can be increased further by providing a huge dataset for model training. The scope of this application is far-reaching, and it can be used to detect the features of fraud transactions in datasets that are applicable in various sectors such as banking, insurance, e-commerce, money transfer, bill payments, etc. This will help increase security."
      ]
    },
    {
      "cell_type": "markdown",
      "metadata": {
        "id": "1zsTB4-3FA0I"
      },
      "source": [
        "**Work Flow**\n",
        "\n",
        "- Load DataSet\n",
        "- Data Preprocessing\n",
        "- Feature Selection/Feature Engineering\n",
        "- Classification\n",
        "- XGboost Model Training\n",
        "- Prediction\n",
        "- Evaluation"
      ]
    },
    {
      "cell_type": "code",
      "execution_count": 1,
      "metadata": {
        "colab": {
          "base_uri": "https://localhost:8080/"
        },
        "id": "SjEgE6F2Y856",
        "outputId": "1da4ef47-d40e-4a3f-b877-d2bc2f0fbce2"
      },
      "outputs": [
        {
          "output_type": "stream",
          "name": "stdout",
          "text": [
            "Installing necessary libraries\n",
            "Collecting pyforest\n",
            "  Downloading pyforest-1.1.0.tar.gz (15 kB)\n",
            "  Preparing metadata (setup.py) ... \u001b[?25l\u001b[?25hdone\n",
            "Building wheels for collected packages: pyforest\n",
            "  Building wheel for pyforest (setup.py) ... \u001b[?25l\u001b[?25hdone\n",
            "  Created wheel for pyforest: filename=pyforest-1.1.0-py2.py3-none-any.whl size=14605 sha256=c0abbecf6e3932891921c5434edbb3facca7551347aefbaf0eabb78273442c1f\n",
            "  Stored in directory: /root/.cache/pip/wheels/9e/7d/2c/5d2f5e62de376c386fd3bf5a8e5bd119ace6a9f48f49df6017\n",
            "Successfully built pyforest\n",
            "Installing collected packages: pyforest\n",
            "Successfully installed pyforest-1.1.0\n",
            "Collecting category_encoders\n",
            "  Downloading category_encoders-2.6.2-py2.py3-none-any.whl (81 kB)\n",
            "\u001b[2K     \u001b[90m━━━━━━━━━━━━━━━━━━━━━━━━━━━━━━━━━━━━━━━━\u001b[0m \u001b[32m81.8/81.8 kB\u001b[0m \u001b[31m1.1 MB/s\u001b[0m eta \u001b[36m0:00:00\u001b[0m\n",
            "\u001b[?25hRequirement already satisfied: numpy>=1.14.0 in /usr/local/lib/python3.10/dist-packages (from category_encoders) (1.23.5)\n",
            "Requirement already satisfied: scikit-learn>=0.20.0 in /usr/local/lib/python3.10/dist-packages (from category_encoders) (1.2.2)\n",
            "Requirement already satisfied: scipy>=1.0.0 in /usr/local/lib/python3.10/dist-packages (from category_encoders) (1.11.2)\n",
            "Requirement already satisfied: statsmodels>=0.9.0 in /usr/local/lib/python3.10/dist-packages (from category_encoders) (0.14.0)\n",
            "Requirement already satisfied: pandas>=1.0.5 in /usr/local/lib/python3.10/dist-packages (from category_encoders) (1.5.3)\n",
            "Requirement already satisfied: patsy>=0.5.1 in /usr/local/lib/python3.10/dist-packages (from category_encoders) (0.5.3)\n",
            "Requirement already satisfied: python-dateutil>=2.8.1 in /usr/local/lib/python3.10/dist-packages (from pandas>=1.0.5->category_encoders) (2.8.2)\n",
            "Requirement already satisfied: pytz>=2020.1 in /usr/local/lib/python3.10/dist-packages (from pandas>=1.0.5->category_encoders) (2023.3.post1)\n",
            "Requirement already satisfied: six in /usr/local/lib/python3.10/dist-packages (from patsy>=0.5.1->category_encoders) (1.16.0)\n",
            "Requirement already satisfied: joblib>=1.1.1 in /usr/local/lib/python3.10/dist-packages (from scikit-learn>=0.20.0->category_encoders) (1.3.2)\n",
            "Requirement already satisfied: threadpoolctl>=2.0.0 in /usr/local/lib/python3.10/dist-packages (from scikit-learn>=0.20.0->category_encoders) (3.2.0)\n",
            "Requirement already satisfied: packaging>=21.3 in /usr/local/lib/python3.10/dist-packages (from statsmodels>=0.9.0->category_encoders) (23.1)\n",
            "Installing collected packages: category_encoders\n",
            "Successfully installed category_encoders-2.6.2\n"
          ]
        }
      ],
      "source": [
        "print(\"Installing necessary libraries\")\n",
        "!pip install pyforest\n",
        "!pip install category_encoders\n"
      ]
    },
    {
      "cell_type": "code",
      "execution_count": 2,
      "metadata": {
        "colab": {
          "base_uri": "https://localhost:8080/"
        },
        "id": "XPt5BKRPhspz",
        "outputId": "8a8fd3b9-e019-40bb-9550-45409ac6b593"
      },
      "outputs": [
        {
          "output_type": "stream",
          "name": "stdout",
          "text": [
            "lmporting libraries\n"
          ]
        }
      ],
      "source": [
        "print(\"lmporting libraries\")\n",
        "from pyforest import *"
      ]
    },
    {
      "cell_type": "code",
      "execution_count": 3,
      "metadata": {
        "colab": {
          "base_uri": "https://localhost:8080/"
        },
        "id": "enTmS3-NZLjc",
        "outputId": "8bfb78c0-cd61-4cfe-eef2-8d4980cfb085"
      },
      "outputs": [
        {
          "output_type": "stream",
          "name": "stdout",
          "text": [
            "Mounting Google drive to load data\n",
            "Mounted at /content/gdrive\n"
          ]
        }
      ],
      "source": [
        "print(\"Mounting Google drive to load data\")\n",
        "from google.colab import drive\n",
        "drive.mount('/content/gdrive')"
      ]
    },
    {
      "cell_type": "code",
      "execution_count": 4,
      "metadata": {
        "colab": {
          "base_uri": "https://localhost:8080/",
          "height": 17
        },
        "id": "ej5dEodrgR6k",
        "outputId": "0b56bbec-cd4b-4e8e-83db-ae5daa8bb729"
      },
      "outputs": [
        {
          "output_type": "display_data",
          "data": {
            "text/plain": [
              "<IPython.core.display.Javascript object>"
            ],
            "application/javascript": [
              "\n",
              "        if (window._pyforest_update_imports_cell) { window._pyforest_update_imports_cell('import pandas as pd'); }\n",
              "    "
            ]
          },
          "metadata": {}
        }
      ],
      "source": [
        "data = pd.read_csv('gdrive/MyDrive/Fraud_Detection_Dataset.csv')"
      ]
    },
    {
      "cell_type": "code",
      "execution_count": 5,
      "metadata": {
        "colab": {
          "base_uri": "https://localhost:8080/"
        },
        "id": "hPrP2if-PT-l",
        "outputId": "a8393494-1143-486f-d80b-26de230497b7"
      },
      "outputs": [
        {
          "output_type": "execute_result",
          "data": {
            "text/plain": [
              "(6000000, 32)"
            ]
          },
          "metadata": {},
          "execution_count": 5
        }
      ],
      "source": [
        "\n",
        "data.shape"
      ]
    },
    {
      "cell_type": "code",
      "execution_count": 6,
      "metadata": {
        "colab": {
          "base_uri": "https://localhost:8080/"
        },
        "id": "WhAIqFojPN9G",
        "outputId": "d85e62b5-6e82-4ab4-a77b-9dc3814a625c"
      },
      "outputs": [
        {
          "output_type": "execute_result",
          "data": {
            "text/plain": [
              "Transaction ID                       0\n",
              "User ID                              0\n",
              "Transaction Amount                   0\n",
              "Transaction Date and Time            0\n",
              "Merchant ID                          0\n",
              "Payment Method                       0\n",
              "Country Code                         0\n",
              "Transaction Type                     0\n",
              "Device Type                          0\n",
              "IP Address                           0\n",
              "Browser Type                         0\n",
              "Operating System                     0\n",
              "Merchant Category                    0\n",
              "User Age                             0\n",
              "User Occupation                      0\n",
              "User Income                          0\n",
              "User Gender                          0\n",
              "User Account Status                  0\n",
              "Transaction Status                   0\n",
              "Location Distance                    0\n",
              "Time Taken for Transaction           0\n",
              "Transaction Time of Day              0\n",
              "User's Transaction History           0\n",
              "Merchant's Reputation Score          0\n",
              "User's Device Location               0\n",
              "Transaction Currency                 0\n",
              "Transaction Purpose                  0\n",
              "User's Credit Score                  0\n",
              "User's Email Domain                  0\n",
              "Merchant's Business Age              0\n",
              "Transaction Authentication Method    0\n",
              "Fraudulent Flag                      0\n",
              "dtype: int64"
            ]
          },
          "metadata": {},
          "execution_count": 6
        }
      ],
      "source": [
        "# CHeck for missing values\n",
        "data.isnull().sum()"
      ]
    },
    {
      "cell_type": "code",
      "execution_count": 7,
      "metadata": {
        "colab": {
          "base_uri": "https://localhost:8080/",
          "height": 1000
        },
        "id": "QvYY3aeXgoMO",
        "outputId": "834b4bc9-019b-4bcf-f80d-5e725453fe13"
      },
      "outputs": [
        {
          "output_type": "execute_result",
          "data": {
            "text/plain": [
              "                                                          0  \\\n",
              "Transaction ID                                     51595306   \n",
              "User ID                                                9822   \n",
              "Transaction Amount                                   163.08   \n",
              "Transaction Date and Time               2023-01-02 07:47:54   \n",
              "Merchant ID                                            4044   \n",
              "Payment Method                                 ACH Transfer   \n",
              "Country Code                                            KOR   \n",
              "Transaction Type                                    Charity   \n",
              "Device Type                                      GPS Device   \n",
              "IP Address                                    42.23.223.120   \n",
              "Browser Type                                          Links   \n",
              "Operating System                                      Tizen   \n",
              "Merchant Category                   Industrial & Scientific   \n",
              "User Age                                                 68   \n",
              "User Occupation                                      Doctor   \n",
              "User Income                                        66826.21   \n",
              "User Gender                               Prefer Not to Say   \n",
              "User Account Status                                     Pro   \n",
              "Transaction Status                               In Transit   \n",
              "Location Distance                                      9.34   \n",
              "Time Taken for Transaction                            24.22   \n",
              "Transaction Time of Day                             Daytime   \n",
              "User's Transaction History                               26   \n",
              "Merchant's Reputation Score                            2.71   \n",
              "User's Device Location                       United Kingdom   \n",
              "Transaction Currency                                    NOK   \n",
              "Transaction Purpose                        Consultation Fee   \n",
              "User's Credit Score                                     343   \n",
              "User's Email Domain                               cox.co.uk   \n",
              "Merchant's Business Age                                   3   \n",
              "Transaction Authentication Method  Bluetooth Authentication   \n",
              "Fraudulent Flag                                           0   \n",
              "\n",
              "                                                     1  \n",
              "Transaction ID                                85052974  \n",
              "User ID                                           4698  \n",
              "Transaction Amount                              430.74  \n",
              "Transaction Date and Time          2021-09-12 15:15:41  \n",
              "Merchant ID                                       4576  \n",
              "Payment Method                               2Checkout  \n",
              "Country Code                                       VNM  \n",
              "Transaction Type                              Cashback  \n",
              "Device Type                             Medical Device  \n",
              "IP Address                               39.52.212.120  \n",
              "Browser Type                                    Beaker  \n",
              "Operating System                        Windows Server  \n",
              "Merchant Category                   Beauty & Cosmetics  \n",
              "User Age                                            22  \n",
              "User Occupation                                Chemist  \n",
              "User Income                                   89356.71  \n",
              "User Gender                                Genderqueer  \n",
              "User Account Status                   Pending Approval  \n",
              "Transaction Status                            Resolved  \n",
              "Location Distance                                65.28  \n",
              "Time Taken for Transaction                       55.11  \n",
              "Transaction Time of Day                        Daytime  \n",
              "User's Transaction History                          60  \n",
              "Merchant's Reputation Score                       3.95  \n",
              "User's Device Location                          Mexico  \n",
              "Transaction Currency                               EGP  \n",
              "Transaction Purpose                    Cashback Reward  \n",
              "User's Credit Score                                688  \n",
              "User's Email Domain                          gmail.com  \n",
              "Merchant's Business Age                             13  \n",
              "Transaction Authentication Method              NFC Tag  \n",
              "Fraudulent Flag                                      1  "
            ],
            "text/html": [
              "\n",
              "  <div id=\"df-6a20a544-48ad-483a-8a25-fa491f1e0876\" class=\"colab-df-container\">\n",
              "    <div>\n",
              "<style scoped>\n",
              "    .dataframe tbody tr th:only-of-type {\n",
              "        vertical-align: middle;\n",
              "    }\n",
              "\n",
              "    .dataframe tbody tr th {\n",
              "        vertical-align: top;\n",
              "    }\n",
              "\n",
              "    .dataframe thead th {\n",
              "        text-align: right;\n",
              "    }\n",
              "</style>\n",
              "<table border=\"1\" class=\"dataframe\">\n",
              "  <thead>\n",
              "    <tr style=\"text-align: right;\">\n",
              "      <th></th>\n",
              "      <th>0</th>\n",
              "      <th>1</th>\n",
              "    </tr>\n",
              "  </thead>\n",
              "  <tbody>\n",
              "    <tr>\n",
              "      <th>Transaction ID</th>\n",
              "      <td>51595306</td>\n",
              "      <td>85052974</td>\n",
              "    </tr>\n",
              "    <tr>\n",
              "      <th>User ID</th>\n",
              "      <td>9822</td>\n",
              "      <td>4698</td>\n",
              "    </tr>\n",
              "    <tr>\n",
              "      <th>Transaction Amount</th>\n",
              "      <td>163.08</td>\n",
              "      <td>430.74</td>\n",
              "    </tr>\n",
              "    <tr>\n",
              "      <th>Transaction Date and Time</th>\n",
              "      <td>2023-01-02 07:47:54</td>\n",
              "      <td>2021-09-12 15:15:41</td>\n",
              "    </tr>\n",
              "    <tr>\n",
              "      <th>Merchant ID</th>\n",
              "      <td>4044</td>\n",
              "      <td>4576</td>\n",
              "    </tr>\n",
              "    <tr>\n",
              "      <th>Payment Method</th>\n",
              "      <td>ACH Transfer</td>\n",
              "      <td>2Checkout</td>\n",
              "    </tr>\n",
              "    <tr>\n",
              "      <th>Country Code</th>\n",
              "      <td>KOR</td>\n",
              "      <td>VNM</td>\n",
              "    </tr>\n",
              "    <tr>\n",
              "      <th>Transaction Type</th>\n",
              "      <td>Charity</td>\n",
              "      <td>Cashback</td>\n",
              "    </tr>\n",
              "    <tr>\n",
              "      <th>Device Type</th>\n",
              "      <td>GPS Device</td>\n",
              "      <td>Medical Device</td>\n",
              "    </tr>\n",
              "    <tr>\n",
              "      <th>IP Address</th>\n",
              "      <td>42.23.223.120</td>\n",
              "      <td>39.52.212.120</td>\n",
              "    </tr>\n",
              "    <tr>\n",
              "      <th>Browser Type</th>\n",
              "      <td>Links</td>\n",
              "      <td>Beaker</td>\n",
              "    </tr>\n",
              "    <tr>\n",
              "      <th>Operating System</th>\n",
              "      <td>Tizen</td>\n",
              "      <td>Windows Server</td>\n",
              "    </tr>\n",
              "    <tr>\n",
              "      <th>Merchant Category</th>\n",
              "      <td>Industrial &amp; Scientific</td>\n",
              "      <td>Beauty &amp; Cosmetics</td>\n",
              "    </tr>\n",
              "    <tr>\n",
              "      <th>User Age</th>\n",
              "      <td>68</td>\n",
              "      <td>22</td>\n",
              "    </tr>\n",
              "    <tr>\n",
              "      <th>User Occupation</th>\n",
              "      <td>Doctor</td>\n",
              "      <td>Chemist</td>\n",
              "    </tr>\n",
              "    <tr>\n",
              "      <th>User Income</th>\n",
              "      <td>66826.21</td>\n",
              "      <td>89356.71</td>\n",
              "    </tr>\n",
              "    <tr>\n",
              "      <th>User Gender</th>\n",
              "      <td>Prefer Not to Say</td>\n",
              "      <td>Genderqueer</td>\n",
              "    </tr>\n",
              "    <tr>\n",
              "      <th>User Account Status</th>\n",
              "      <td>Pro</td>\n",
              "      <td>Pending Approval</td>\n",
              "    </tr>\n",
              "    <tr>\n",
              "      <th>Transaction Status</th>\n",
              "      <td>In Transit</td>\n",
              "      <td>Resolved</td>\n",
              "    </tr>\n",
              "    <tr>\n",
              "      <th>Location Distance</th>\n",
              "      <td>9.34</td>\n",
              "      <td>65.28</td>\n",
              "    </tr>\n",
              "    <tr>\n",
              "      <th>Time Taken for Transaction</th>\n",
              "      <td>24.22</td>\n",
              "      <td>55.11</td>\n",
              "    </tr>\n",
              "    <tr>\n",
              "      <th>Transaction Time of Day</th>\n",
              "      <td>Daytime</td>\n",
              "      <td>Daytime</td>\n",
              "    </tr>\n",
              "    <tr>\n",
              "      <th>User's Transaction History</th>\n",
              "      <td>26</td>\n",
              "      <td>60</td>\n",
              "    </tr>\n",
              "    <tr>\n",
              "      <th>Merchant's Reputation Score</th>\n",
              "      <td>2.71</td>\n",
              "      <td>3.95</td>\n",
              "    </tr>\n",
              "    <tr>\n",
              "      <th>User's Device Location</th>\n",
              "      <td>United Kingdom</td>\n",
              "      <td>Mexico</td>\n",
              "    </tr>\n",
              "    <tr>\n",
              "      <th>Transaction Currency</th>\n",
              "      <td>NOK</td>\n",
              "      <td>EGP</td>\n",
              "    </tr>\n",
              "    <tr>\n",
              "      <th>Transaction Purpose</th>\n",
              "      <td>Consultation Fee</td>\n",
              "      <td>Cashback Reward</td>\n",
              "    </tr>\n",
              "    <tr>\n",
              "      <th>User's Credit Score</th>\n",
              "      <td>343</td>\n",
              "      <td>688</td>\n",
              "    </tr>\n",
              "    <tr>\n",
              "      <th>User's Email Domain</th>\n",
              "      <td>cox.co.uk</td>\n",
              "      <td>gmail.com</td>\n",
              "    </tr>\n",
              "    <tr>\n",
              "      <th>Merchant's Business Age</th>\n",
              "      <td>3</td>\n",
              "      <td>13</td>\n",
              "    </tr>\n",
              "    <tr>\n",
              "      <th>Transaction Authentication Method</th>\n",
              "      <td>Bluetooth Authentication</td>\n",
              "      <td>NFC Tag</td>\n",
              "    </tr>\n",
              "    <tr>\n",
              "      <th>Fraudulent Flag</th>\n",
              "      <td>0</td>\n",
              "      <td>1</td>\n",
              "    </tr>\n",
              "  </tbody>\n",
              "</table>\n",
              "</div>\n",
              "    <div class=\"colab-df-buttons\">\n",
              "\n",
              "  <div class=\"colab-df-container\">\n",
              "    <button class=\"colab-df-convert\" onclick=\"convertToInteractive('df-6a20a544-48ad-483a-8a25-fa491f1e0876')\"\n",
              "            title=\"Convert this dataframe to an interactive table.\"\n",
              "            style=\"display:none;\">\n",
              "\n",
              "  <svg xmlns=\"http://www.w3.org/2000/svg\" height=\"24px\" viewBox=\"0 -960 960 960\">\n",
              "    <path d=\"M120-120v-720h720v720H120Zm60-500h600v-160H180v160Zm220 220h160v-160H400v160Zm0 220h160v-160H400v160ZM180-400h160v-160H180v160Zm440 0h160v-160H620v160ZM180-180h160v-160H180v160Zm440 0h160v-160H620v160Z\"/>\n",
              "  </svg>\n",
              "    </button>\n",
              "\n",
              "  <style>\n",
              "    .colab-df-container {\n",
              "      display:flex;\n",
              "      gap: 12px;\n",
              "    }\n",
              "\n",
              "    .colab-df-convert {\n",
              "      background-color: #E8F0FE;\n",
              "      border: none;\n",
              "      border-radius: 50%;\n",
              "      cursor: pointer;\n",
              "      display: none;\n",
              "      fill: #1967D2;\n",
              "      height: 32px;\n",
              "      padding: 0 0 0 0;\n",
              "      width: 32px;\n",
              "    }\n",
              "\n",
              "    .colab-df-convert:hover {\n",
              "      background-color: #E2EBFA;\n",
              "      box-shadow: 0px 1px 2px rgba(60, 64, 67, 0.3), 0px 1px 3px 1px rgba(60, 64, 67, 0.15);\n",
              "      fill: #174EA6;\n",
              "    }\n",
              "\n",
              "    .colab-df-buttons div {\n",
              "      margin-bottom: 4px;\n",
              "    }\n",
              "\n",
              "    [theme=dark] .colab-df-convert {\n",
              "      background-color: #3B4455;\n",
              "      fill: #D2E3FC;\n",
              "    }\n",
              "\n",
              "    [theme=dark] .colab-df-convert:hover {\n",
              "      background-color: #434B5C;\n",
              "      box-shadow: 0px 1px 3px 1px rgba(0, 0, 0, 0.15);\n",
              "      filter: drop-shadow(0px 1px 2px rgba(0, 0, 0, 0.3));\n",
              "      fill: #FFFFFF;\n",
              "    }\n",
              "  </style>\n",
              "\n",
              "    <script>\n",
              "      const buttonEl =\n",
              "        document.querySelector('#df-6a20a544-48ad-483a-8a25-fa491f1e0876 button.colab-df-convert');\n",
              "      buttonEl.style.display =\n",
              "        google.colab.kernel.accessAllowed ? 'block' : 'none';\n",
              "\n",
              "      async function convertToInteractive(key) {\n",
              "        const element = document.querySelector('#df-6a20a544-48ad-483a-8a25-fa491f1e0876');\n",
              "        const dataTable =\n",
              "          await google.colab.kernel.invokeFunction('convertToInteractive',\n",
              "                                                    [key], {});\n",
              "        if (!dataTable) return;\n",
              "\n",
              "        const docLinkHtml = 'Like what you see? Visit the ' +\n",
              "          '<a target=\"_blank\" href=https://colab.research.google.com/notebooks/data_table.ipynb>data table notebook</a>'\n",
              "          + ' to learn more about interactive tables.';\n",
              "        element.innerHTML = '';\n",
              "        dataTable['output_type'] = 'display_data';\n",
              "        await google.colab.output.renderOutput(dataTable, element);\n",
              "        const docLink = document.createElement('div');\n",
              "        docLink.innerHTML = docLinkHtml;\n",
              "        element.appendChild(docLink);\n",
              "      }\n",
              "    </script>\n",
              "  </div>\n",
              "\n",
              "\n",
              "<div id=\"df-5ee4a4de-97aa-4be8-b104-0dcc72f06420\">\n",
              "  <button class=\"colab-df-quickchart\" onclick=\"quickchart('df-5ee4a4de-97aa-4be8-b104-0dcc72f06420')\"\n",
              "            title=\"Suggest charts.\"\n",
              "            style=\"display:none;\">\n",
              "\n",
              "<svg xmlns=\"http://www.w3.org/2000/svg\" height=\"24px\"viewBox=\"0 0 24 24\"\n",
              "     width=\"24px\">\n",
              "    <g>\n",
              "        <path d=\"M19 3H5c-1.1 0-2 .9-2 2v14c0 1.1.9 2 2 2h14c1.1 0 2-.9 2-2V5c0-1.1-.9-2-2-2zM9 17H7v-7h2v7zm4 0h-2V7h2v10zm4 0h-2v-4h2v4z\"/>\n",
              "    </g>\n",
              "</svg>\n",
              "  </button>\n",
              "\n",
              "<style>\n",
              "  .colab-df-quickchart {\n",
              "      --bg-color: #E8F0FE;\n",
              "      --fill-color: #1967D2;\n",
              "      --hover-bg-color: #E2EBFA;\n",
              "      --hover-fill-color: #174EA6;\n",
              "      --disabled-fill-color: #AAA;\n",
              "      --disabled-bg-color: #DDD;\n",
              "  }\n",
              "\n",
              "  [theme=dark] .colab-df-quickchart {\n",
              "      --bg-color: #3B4455;\n",
              "      --fill-color: #D2E3FC;\n",
              "      --hover-bg-color: #434B5C;\n",
              "      --hover-fill-color: #FFFFFF;\n",
              "      --disabled-bg-color: #3B4455;\n",
              "      --disabled-fill-color: #666;\n",
              "  }\n",
              "\n",
              "  .colab-df-quickchart {\n",
              "    background-color: var(--bg-color);\n",
              "    border: none;\n",
              "    border-radius: 50%;\n",
              "    cursor: pointer;\n",
              "    display: none;\n",
              "    fill: var(--fill-color);\n",
              "    height: 32px;\n",
              "    padding: 0;\n",
              "    width: 32px;\n",
              "  }\n",
              "\n",
              "  .colab-df-quickchart:hover {\n",
              "    background-color: var(--hover-bg-color);\n",
              "    box-shadow: 0 1px 2px rgba(60, 64, 67, 0.3), 0 1px 3px 1px rgba(60, 64, 67, 0.15);\n",
              "    fill: var(--button-hover-fill-color);\n",
              "  }\n",
              "\n",
              "  .colab-df-quickchart-complete:disabled,\n",
              "  .colab-df-quickchart-complete:disabled:hover {\n",
              "    background-color: var(--disabled-bg-color);\n",
              "    fill: var(--disabled-fill-color);\n",
              "    box-shadow: none;\n",
              "  }\n",
              "\n",
              "  .colab-df-spinner {\n",
              "    border: 2px solid var(--fill-color);\n",
              "    border-color: transparent;\n",
              "    border-bottom-color: var(--fill-color);\n",
              "    animation:\n",
              "      spin 1s steps(1) infinite;\n",
              "  }\n",
              "\n",
              "  @keyframes spin {\n",
              "    0% {\n",
              "      border-color: transparent;\n",
              "      border-bottom-color: var(--fill-color);\n",
              "      border-left-color: var(--fill-color);\n",
              "    }\n",
              "    20% {\n",
              "      border-color: transparent;\n",
              "      border-left-color: var(--fill-color);\n",
              "      border-top-color: var(--fill-color);\n",
              "    }\n",
              "    30% {\n",
              "      border-color: transparent;\n",
              "      border-left-color: var(--fill-color);\n",
              "      border-top-color: var(--fill-color);\n",
              "      border-right-color: var(--fill-color);\n",
              "    }\n",
              "    40% {\n",
              "      border-color: transparent;\n",
              "      border-right-color: var(--fill-color);\n",
              "      border-top-color: var(--fill-color);\n",
              "    }\n",
              "    60% {\n",
              "      border-color: transparent;\n",
              "      border-right-color: var(--fill-color);\n",
              "    }\n",
              "    80% {\n",
              "      border-color: transparent;\n",
              "      border-right-color: var(--fill-color);\n",
              "      border-bottom-color: var(--fill-color);\n",
              "    }\n",
              "    90% {\n",
              "      border-color: transparent;\n",
              "      border-bottom-color: var(--fill-color);\n",
              "    }\n",
              "  }\n",
              "</style>\n",
              "\n",
              "  <script>\n",
              "    async function quickchart(key) {\n",
              "      const quickchartButtonEl =\n",
              "        document.querySelector('#' + key + ' button');\n",
              "      quickchartButtonEl.disabled = true;  // To prevent multiple clicks.\n",
              "      quickchartButtonEl.classList.add('colab-df-spinner');\n",
              "      try {\n",
              "        const charts = await google.colab.kernel.invokeFunction(\n",
              "            'suggestCharts', [key], {});\n",
              "      } catch (error) {\n",
              "        console.error('Error during call to suggestCharts:', error);\n",
              "      }\n",
              "      quickchartButtonEl.classList.remove('colab-df-spinner');\n",
              "      quickchartButtonEl.classList.add('colab-df-quickchart-complete');\n",
              "    }\n",
              "    (() => {\n",
              "      let quickchartButtonEl =\n",
              "        document.querySelector('#df-5ee4a4de-97aa-4be8-b104-0dcc72f06420 button');\n",
              "      quickchartButtonEl.style.display =\n",
              "        google.colab.kernel.accessAllowed ? 'block' : 'none';\n",
              "    })();\n",
              "  </script>\n",
              "</div>\n",
              "    </div>\n",
              "  </div>\n"
            ]
          },
          "metadata": {},
          "execution_count": 7
        }
      ],
      "source": [
        "data.head(2).T"
      ]
    },
    {
      "cell_type": "code",
      "execution_count": 8,
      "metadata": {
        "colab": {
          "base_uri": "https://localhost:8080/"
        },
        "id": "bHi-o_AajQbc",
        "outputId": "26923a36-4c1b-4194-d844-a18d5fb6ea2d"
      },
      "outputs": [
        {
          "output_type": "execute_result",
          "data": {
            "text/plain": [
              "Transaction ID                         int64\n",
              "User ID                                int64\n",
              "Transaction Amount                   float64\n",
              "Transaction Date and Time             object\n",
              "Merchant ID                            int64\n",
              "Payment Method                        object\n",
              "Country Code                          object\n",
              "Transaction Type                      object\n",
              "Device Type                           object\n",
              "IP Address                            object\n",
              "Browser Type                          object\n",
              "Operating System                      object\n",
              "Merchant Category                     object\n",
              "User Age                               int64\n",
              "User Occupation                       object\n",
              "User Income                          float64\n",
              "User Gender                           object\n",
              "User Account Status                   object\n",
              "Transaction Status                    object\n",
              "Location Distance                    float64\n",
              "Time Taken for Transaction           float64\n",
              "Transaction Time of Day               object\n",
              "User's Transaction History             int64\n",
              "Merchant's Reputation Score          float64\n",
              "User's Device Location                object\n",
              "Transaction Currency                  object\n",
              "Transaction Purpose                   object\n",
              "User's Credit Score                    int64\n",
              "User's Email Domain                   object\n",
              "Merchant's Business Age                int64\n",
              "Transaction Authentication Method     object\n",
              "Fraudulent Flag                        int64\n",
              "dtype: object"
            ]
          },
          "metadata": {},
          "execution_count": 8
        }
      ],
      "source": [
        "# Check data types of each features\n",
        "data.dtypes"
      ]
    },
    {
      "cell_type": "code",
      "execution_count": 9,
      "metadata": {
        "id": "v4LDZHca0SuZ"
      },
      "outputs": [],
      "source": [
        "# Create a copy of the dataset\n",
        "X = data.copy()"
      ]
    },
    {
      "cell_type": "markdown",
      "metadata": {
        "id": "govDJmUPaz2W"
      },
      "source": [
        "Transaction Date and Time variable is identified as an object. So i converted it time series data type. follow by extracting the year, month, and day into different columns."
      ]
    },
    {
      "cell_type": "code",
      "execution_count": 10,
      "metadata": {
        "colab": {
          "base_uri": "https://localhost:8080/",
          "height": 17
        },
        "id": "VmTjqHvAay4d",
        "outputId": "5c30a621-bc6a-47d0-d0c9-8fe2e862143d"
      },
      "outputs": [
        {
          "output_type": "display_data",
          "data": {
            "text/plain": [
              "<IPython.core.display.Javascript object>"
            ],
            "application/javascript": [
              "\n",
              "        if (window._pyforest_update_imports_cell) { window._pyforest_update_imports_cell('import pandas as pd'); }\n",
              "    "
            ]
          },
          "metadata": {}
        }
      ],
      "source": [
        "# convert to date time series\n",
        "X['Transaction Date and Time'] = pd.to_datetime(X['Transaction Date and Time'])"
      ]
    },
    {
      "cell_type": "code",
      "execution_count": 11,
      "metadata": {
        "id": "mII9CalldAXM"
      },
      "outputs": [],
      "source": [
        "# Extract year, month, day in each column\n",
        "\n",
        "X['Year'] = X['Transaction Date and Time'].dt.year\n",
        "X['Month'] = X['Transaction Date and Time'].dt.month\n",
        "X['Day'] = X['Transaction Date and Time'].dt.day\n"
      ]
    },
    {
      "cell_type": "code",
      "execution_count": 12,
      "metadata": {
        "id": "SKWJ87Zhiu3v"
      },
      "outputs": [],
      "source": [
        "# Remove User Gender Columns\n",
        "#X.drop('User Gender', inplace=True, axis=1)"
      ]
    },
    {
      "cell_type": "markdown",
      "metadata": {
        "id": "HXRhCOpTaKjR"
      },
      "source": [
        "Due to large number of the dataset observations, it will be resource driven to visualize the dataset to check the correlation between the features and the target variable. so subset of the observation is extracted."
      ]
    },
    {
      "cell_type": "code",
      "execution_count": 13,
      "metadata": {
        "id": "WUlMoPhGZqHe"
      },
      "outputs": [],
      "source": [
        "#sample_X = X.sample(n=10000, random_state=0)"
      ]
    },
    {
      "cell_type": "code",
      "execution_count": 14,
      "metadata": {
        "id": "joUF9E9iuAmd"
      },
      "outputs": [],
      "source": [
        "# # Split categorical variables and check their unique values\n",
        "# cat_col = sample_X.dtypes[sample_X.dtypes == 'object'].index.tolist()\n",
        "# for col in cat_col:\n",
        "#   sample_X[col] = sample_X[col].astype('category')\n",
        "# cat_col = sample_X.dtypes[sample_X.dtypes == 'category'].index.tolist()"
      ]
    },
    {
      "cell_type": "code",
      "execution_count": 15,
      "metadata": {
        "id": "n6BJdNzj4C0x"
      },
      "outputs": [],
      "source": [
        "# Split categorical variables and convert from object to category\n",
        "cat_col = X.dtypes[X.dtypes == 'object'].index.tolist()\n",
        "for col in cat_col:\n",
        "  X[col] = X[col].astype('category')\n",
        "cat_col = X.dtypes[X.dtypes == 'category'].index.tolist()"
      ]
    },
    {
      "cell_type": "code",
      "execution_count": 16,
      "metadata": {
        "colab": {
          "base_uri": "https://localhost:8080/"
        },
        "id": "RfpOYhJqpJ8b",
        "outputId": "97213074-aa28-4f7b-aead-83945c55e5e0"
      },
      "outputs": [
        {
          "output_type": "execute_result",
          "data": {
            "text/plain": [
              "['Payment Method',\n",
              " 'Country Code',\n",
              " 'Transaction Type',\n",
              " 'Device Type',\n",
              " 'IP Address',\n",
              " 'Browser Type',\n",
              " 'Operating System',\n",
              " 'Merchant Category',\n",
              " 'User Occupation',\n",
              " 'User Gender',\n",
              " 'User Account Status',\n",
              " 'Transaction Status',\n",
              " 'Transaction Time of Day',\n",
              " \"User's Device Location\",\n",
              " 'Transaction Currency',\n",
              " 'Transaction Purpose',\n",
              " \"User's Email Domain\",\n",
              " 'Transaction Authentication Method']"
            ]
          },
          "metadata": {},
          "execution_count": 16
        }
      ],
      "source": [
        "cat_col"
      ]
    },
    {
      "cell_type": "code",
      "execution_count": 16,
      "metadata": {
        "id": "yOYklP0mpJ2t"
      },
      "outputs": [],
      "source": []
    },
    {
      "cell_type": "code",
      "execution_count": 17,
      "metadata": {
        "id": "aMefmvltRqWy"
      },
      "outputs": [],
      "source": [
        "# # visualize the relationship between the categorical variables and the target variable\n",
        "# for cat_col in cat_col:\n",
        "#   contingency_table = pd.crosstab(sample_X[cat_col], sample_X['Fraudulent Flag'])\n",
        "\n",
        "#   plt.figure(figsize=(10, 6))  # Adjust the figure size as needed\n",
        "#   sns.heatmap(contingency_table, annot=True, fmt='d', cmap='YlGnBu')\n",
        "#   plt.title('Heatmap of Relationship for '+cat_col)\n",
        "#   plt.xlabel('fraudulent Flag')\n",
        "#   plt.ylabel(cat_col)\n",
        "#   plt.show()\n",
        "\n"
      ]
    },
    {
      "cell_type": "markdown",
      "metadata": {
        "id": "DZXq3HmPDxT6"
      },
      "source": [
        "Most of the categorical variable have a large number unique values, especcially the \"IP address\" column. But let us check the relationship between the categorical variable and the target variable."
      ]
    },
    {
      "cell_type": "code",
      "execution_count": 18,
      "metadata": {
        "id": "dXVX7sO1Dvxv"
      },
      "outputs": [],
      "source": [
        "# sample_X.drop('Transaction Date and Time', axis =1, inplace=True)\n",
        "X.drop('Transaction Date and Time', axis =1, inplace=True)"
      ]
    },
    {
      "cell_type": "code",
      "execution_count": 19,
      "metadata": {
        "id": "gvVjzc6ai48_"
      },
      "outputs": [],
      "source": [
        "# # split features from target\n",
        "\n",
        "# X_data = sample_X.drop('Fraudulent Flag', axis=1)\n",
        "# y_data = sample_X.pop('Fraudulent Flag')\n",
        "\n",
        "# split features from target\n",
        "\n",
        "X_data = X.drop('Fraudulent Flag', axis=1)\n",
        "y_data = X.pop('Fraudulent Flag')"
      ]
    },
    {
      "cell_type": "code",
      "execution_count": 19,
      "metadata": {
        "id": "kSSUsI1jJ4Bb"
      },
      "outputs": [],
      "source": []
    },
    {
      "cell_type": "code",
      "execution_count": 20,
      "metadata": {
        "colab": {
          "base_uri": "https://localhost:8080/",
          "height": 17
        },
        "id": "ofLMTYfPjuk-",
        "outputId": "f89a6fa7-96b2-4cfc-a908-a8dd72c80dff"
      },
      "outputs": [
        {
          "output_type": "display_data",
          "data": {
            "text/plain": [
              "<IPython.core.display.Javascript object>"
            ],
            "application/javascript": [
              "\n",
              "        if (window._pyforest_update_imports_cell) { window._pyforest_update_imports_cell('from sklearn.model_selection import train_test_split\\nimport pandas as pd'); }\n",
              "    "
            ]
          },
          "metadata": {}
        }
      ],
      "source": [
        "X_train, X_test, y_train, y_test = train_test_split(X_data, y_data, test_size=0.5, stratify=y_data, random_state=0)"
      ]
    },
    {
      "cell_type": "code",
      "execution_count": 21,
      "metadata": {
        "id": "JIjmJ4KBbbtJ"
      },
      "outputs": [],
      "source": [
        "X_train_small = X_train.iloc[:1000000]\n",
        "y_train_small = y_train.iloc[:1000000]\n",
        "X_test_small = X_test.iloc[:500000]\n",
        "y_test_small = y_test.iloc[:500000]"
      ]
    },
    {
      "cell_type": "code",
      "execution_count": 21,
      "metadata": {
        "id": "PVfxZiREJ64c"
      },
      "outputs": [],
      "source": []
    },
    {
      "cell_type": "code",
      "execution_count": 22,
      "metadata": {
        "id": "4SR6GrZsklK6"
      },
      "outputs": [],
      "source": [
        "# dtrain = xgb.DMatrix(data=X_train, label= y_train, enable_categorical=True)\n",
        "# dtest = xgb.DMatrix(data=X_test, label= y_test, enable_categorical=True)\n",
        "\n",
        "# category_col = [cat_col]\n",
        "\n",
        "# dtrain.set_info(feature_types=[('f' if col in category_col else 'q') for col in X_train.columns])\n",
        "# #dtest.set_info(feature_types=[('f' if col in category_col else 'q') for col in X_test.columns])\n",
        "\n",
        "# # params = {'objective': 'binary:logistic', 'eval_metric': 'logloss'}\n",
        "\n",
        "# params = {\n",
        "#     'min_child_weight': 7,\n",
        "#     'subsample': 0.577,\n",
        "#     'max_depth': 10,\n",
        "#     'reg_lambda': 0.377,\n",
        "#     'learning_rate': 0.017,\n",
        "#     'colsample_bytree': 0.974,\n",
        "#     'reg_alpha': 0.206\n",
        "# }\n",
        "\n",
        "# #params = {'objective': 'binary:logistic', 'eval_metric': 'logloss', 'colsample_bytree': 0.8, 'learning_rate': 0.1, 'max_depth': 3, 'min_child_weight': 1, 'subsample': 1.0}\n",
        "\n",
        "# model = xgb.train(params, dtrain, num_boost_round=100)"
      ]
    },
    {
      "cell_type": "markdown",
      "metadata": {
        "id": "yh4r-QVWKAuY"
      },
      "source": [
        "Tuning the parameters"
      ]
    },
    {
      "cell_type": "code",
      "execution_count": 41,
      "metadata": {
        "colab": {
          "base_uri": "https://localhost:8080/",
          "height": 390
        },
        "id": "UP9dKKd3J-tI",
        "outputId": "8208b97a-f3ac-4c93-fc77-fba27d553792"
      },
      "outputs": [
        {
          "output_type": "display_data",
          "data": {
            "text/plain": [
              "<IPython.core.display.Javascript object>"
            ],
            "application/javascript": [
              "\n",
              "        if (window._pyforest_update_imports_cell) { window._pyforest_update_imports_cell('from sklearn.model_selection import train_test_split\\nimport pandas as pd\\nimport xgboost as xgb'); }\n",
              "    "
            ]
          },
          "metadata": {}
        },
        {
          "output_type": "display_data",
          "data": {
            "text/plain": [
              "<IPython.core.display.Javascript object>"
            ],
            "application/javascript": [
              "\n",
              "        if (window._pyforest_update_imports_cell) { window._pyforest_update_imports_cell('from sklearn.model_selection import train_test_split\\nimport pandas as pd\\nimport xgboost as xgb'); }\n",
              "    "
            ]
          },
          "metadata": {}
        },
        {
          "output_type": "display_data",
          "data": {
            "text/plain": [
              "<IPython.core.display.Javascript object>"
            ],
            "application/javascript": [
              "\n",
              "        if (window._pyforest_update_imports_cell) { window._pyforest_update_imports_cell('from sklearn.model_selection import train_test_split\\nimport pandas as pd\\nimport xgboost as xgb'); }\n",
              "    "
            ]
          },
          "metadata": {}
        },
        {
          "output_type": "error",
          "ename": "ValueError",
          "evalue": "ignored",
          "traceback": [
            "\u001b[0;31m---------------------------------------------------------------------------\u001b[0m",
            "\u001b[0;31mValueError\u001b[0m                                Traceback (most recent call last)",
            "\u001b[0;32m/usr/local/lib/python3.10/dist-packages/pyforest/__init__.py\u001b[0m in \u001b[0;36m<cell line: 66>\u001b[0;34m()\u001b[0m\n\u001b[1;32m     64\u001b[0m \u001b[0;31m# # Evaluate the model\u001b[0m\u001b[0;34m\u001b[0m\u001b[0;34m\u001b[0m\u001b[0m\n\u001b[1;32m     65\u001b[0m \u001b[0my_pred\u001b[0m \u001b[0;34m=\u001b[0m \u001b[0mbest_model\u001b[0m\u001b[0;34m.\u001b[0m\u001b[0mpredict\u001b[0m\u001b[0;34m(\u001b[0m\u001b[0mdtest\u001b[0m\u001b[0;34m)\u001b[0m\u001b[0;34m\u001b[0m\u001b[0;34m\u001b[0m\u001b[0m\n\u001b[0;32m---> 66\u001b[0;31m \u001b[0maccuracy\u001b[0m \u001b[0;34m=\u001b[0m \u001b[0maccuracy_score\u001b[0m\u001b[0;34m(\u001b[0m\u001b[0my_test_resampled\u001b[0m\u001b[0;34m,\u001b[0m \u001b[0my_pred\u001b[0m\u001b[0;34m)\u001b[0m\u001b[0;34m\u001b[0m\u001b[0;34m\u001b[0m\u001b[0m\n\u001b[0m\u001b[1;32m     67\u001b[0m \u001b[0;34m\u001b[0m\u001b[0m\n\u001b[1;32m     68\u001b[0m \u001b[0;31m# Display results\u001b[0m\u001b[0;34m\u001b[0m\u001b[0;34m\u001b[0m\u001b[0m\n",
            "\u001b[0;32m/usr/local/lib/python3.10/dist-packages/sklearn/utils/_param_validation.py\u001b[0m in \u001b[0;36mwrapper\u001b[0;34m(*args, **kwargs)\u001b[0m\n\u001b[1;32m    190\u001b[0m \u001b[0;34m\u001b[0m\u001b[0m\n\u001b[1;32m    191\u001b[0m             \u001b[0;32mtry\u001b[0m\u001b[0;34m:\u001b[0m\u001b[0;34m\u001b[0m\u001b[0;34m\u001b[0m\u001b[0m\n\u001b[0;32m--> 192\u001b[0;31m                 \u001b[0;32mreturn\u001b[0m \u001b[0mfunc\u001b[0m\u001b[0;34m(\u001b[0m\u001b[0;34m*\u001b[0m\u001b[0margs\u001b[0m\u001b[0;34m,\u001b[0m \u001b[0;34m**\u001b[0m\u001b[0mkwargs\u001b[0m\u001b[0;34m)\u001b[0m\u001b[0;34m\u001b[0m\u001b[0;34m\u001b[0m\u001b[0m\n\u001b[0m\u001b[1;32m    193\u001b[0m             \u001b[0;32mexcept\u001b[0m \u001b[0mInvalidParameterError\u001b[0m \u001b[0;32mas\u001b[0m \u001b[0me\u001b[0m\u001b[0;34m:\u001b[0m\u001b[0;34m\u001b[0m\u001b[0;34m\u001b[0m\u001b[0m\n\u001b[1;32m    194\u001b[0m                 \u001b[0;31m# When the function is just a wrapper around an estimator, we allow\u001b[0m\u001b[0;34m\u001b[0m\u001b[0;34m\u001b[0m\u001b[0m\n",
            "\u001b[0;32m/usr/local/lib/python3.10/dist-packages/sklearn/metrics/_classification.py\u001b[0m in \u001b[0;36maccuracy_score\u001b[0;34m(y_true, y_pred, normalize, sample_weight)\u001b[0m\n\u001b[1;32m    219\u001b[0m \u001b[0;34m\u001b[0m\u001b[0m\n\u001b[1;32m    220\u001b[0m     \u001b[0;31m# Compute accuracy for each possible representation\u001b[0m\u001b[0;34m\u001b[0m\u001b[0;34m\u001b[0m\u001b[0m\n\u001b[0;32m--> 221\u001b[0;31m     \u001b[0my_type\u001b[0m\u001b[0;34m,\u001b[0m \u001b[0my_true\u001b[0m\u001b[0;34m,\u001b[0m \u001b[0my_pred\u001b[0m \u001b[0;34m=\u001b[0m \u001b[0m_check_targets\u001b[0m\u001b[0;34m(\u001b[0m\u001b[0my_true\u001b[0m\u001b[0;34m,\u001b[0m \u001b[0my_pred\u001b[0m\u001b[0;34m)\u001b[0m\u001b[0;34m\u001b[0m\u001b[0;34m\u001b[0m\u001b[0m\n\u001b[0m\u001b[1;32m    222\u001b[0m     \u001b[0mcheck_consistent_length\u001b[0m\u001b[0;34m(\u001b[0m\u001b[0my_true\u001b[0m\u001b[0;34m,\u001b[0m \u001b[0my_pred\u001b[0m\u001b[0;34m,\u001b[0m \u001b[0msample_weight\u001b[0m\u001b[0;34m)\u001b[0m\u001b[0;34m\u001b[0m\u001b[0;34m\u001b[0m\u001b[0m\n\u001b[1;32m    223\u001b[0m     \u001b[0;32mif\u001b[0m \u001b[0my_type\u001b[0m\u001b[0;34m.\u001b[0m\u001b[0mstartswith\u001b[0m\u001b[0;34m(\u001b[0m\u001b[0;34m\"multilabel\"\u001b[0m\u001b[0;34m)\u001b[0m\u001b[0;34m:\u001b[0m\u001b[0;34m\u001b[0m\u001b[0;34m\u001b[0m\u001b[0m\n",
            "\u001b[0;32m/usr/local/lib/python3.10/dist-packages/sklearn/metrics/_classification.py\u001b[0m in \u001b[0;36m_check_targets\u001b[0;34m(y_true, y_pred)\u001b[0m\n\u001b[1;32m     93\u001b[0m \u001b[0;34m\u001b[0m\u001b[0m\n\u001b[1;32m     94\u001b[0m     \u001b[0;32mif\u001b[0m \u001b[0mlen\u001b[0m\u001b[0;34m(\u001b[0m\u001b[0my_type\u001b[0m\u001b[0;34m)\u001b[0m \u001b[0;34m>\u001b[0m \u001b[0;36m1\u001b[0m\u001b[0;34m:\u001b[0m\u001b[0;34m\u001b[0m\u001b[0;34m\u001b[0m\u001b[0m\n\u001b[0;32m---> 95\u001b[0;31m         raise ValueError(\n\u001b[0m\u001b[1;32m     96\u001b[0m             \"Classification metrics can't handle a mix of {0} and {1} targets\".format(\n\u001b[1;32m     97\u001b[0m                 \u001b[0mtype_true\u001b[0m\u001b[0;34m,\u001b[0m \u001b[0mtype_pred\u001b[0m\u001b[0;34m\u001b[0m\u001b[0;34m\u001b[0m\u001b[0m\n",
            "\u001b[0;31mValueError\u001b[0m: Classification metrics can't handle a mix of binary and continuous targets"
          ]
        }
      ],
      "source": [
        "import category_encoders as ce\n",
        "from sklearn.metrics import accuracy_score\n",
        "\n",
        "# # Initialize target encoder\n",
        "encoder = ce.TargetEncoder(cols=cat_col)  # Specify categorical columns\n",
        "\n",
        "# # Fit the encoder on the training data and transform both training and testing data\n",
        "X_train_encoded = encoder.fit_transform(X_train_small, y_train_small)\n",
        "X_test_encoded = encoder.transform(X_test_small, y_test_small)\n",
        "\n",
        "from imblearn.over_sampling import SMOTE\n",
        "X_resampled, y_resampled = SMOTE().fit_resample(X_train_encoded, y_train_small)\n",
        "X_test_resampled, y_test_resampled = SMOTE().fit_resample(X_test_encoded, y_test_small)\n",
        "\n",
        "X_resampled.drop(['Year', 'Month', 'Day'], axis=1, inplace=True)\n",
        "X_test_resampled.drop(['Year', 'Month', 'Day'], axis=1, inplace=True)\n",
        "\n",
        "\n",
        "dtrain = xgb.DMatrix(data=X_resampled, label= y_resampled)\n",
        "dtest = xgb.DMatrix(data=X_test_resampled, label= y_test_resampled)\n",
        "\n",
        "# # Assuming 'X_train' and 'y_train' are your training data\n",
        "\n",
        "# # Initialize the XGBoost model with categorical support enabled\n",
        "# model = xgb.XGBClassifier(verbosity=2)\n",
        "\n",
        "# # Define the parameter grid for hyperparameter tuning\n",
        "# param_grid = {\n",
        "#     'max_depth': [3, 7],\n",
        "#     'min_child_weight': [1, 5],\n",
        "#     'subsample': [0.8, 1.0],\n",
        "#     'colsample_bytree': [0.8, 1.0],\n",
        "#     'learning_rate': [0.1, 0.01, 0.5, 0.9],\n",
        "#     'n_estimator': [200]\n",
        "# }\n",
        "\n",
        "scale_pos_weight = len(y_resampled[y_resampled == 0]) / len(y_resampled[y_resampled == 1])\n",
        "\n",
        "params = {\n",
        "    'min_child_weight': 7,\n",
        "    'subsample': 0.577,\n",
        "    'max_depth': 10,\n",
        "    'reg_lambda': 0.377,\n",
        "    'learning_rate': 0.017,\n",
        "    'colsample_bytree': 0.974,\n",
        "    'reg_alpha': 0.206,\n",
        "    'objective': 'binary:logistic',\n",
        "    'eval_metric': 'logloss',\n",
        "    'scale_pos_weight': scale_pos_weight\n",
        "\n",
        "}\n",
        "# # Initialize GridSearchCV\n",
        "# grid_search = GridSearchCV(estimator=model, param_grid=param_grid, scoring='roc_auc', cv=3, verbose=2, n_jobs=-1,  error_score='raise')\n",
        "\n",
        "# # Perform the hyperparameter tuning\n",
        "# grid_search.fit(X_train_encoded, y_train_small)\n",
        "\n",
        "# # Get the best hyperparameters\n",
        "# best_params = grid_search.best_params_\n",
        "\n",
        "# # Train the model with the best hyperparameters\n",
        "#best_model = xgb.XGBClassifier(params, verbosity=2)\n",
        "best_model =xgb.train(params, dtrain, num_boost_round=100)\n",
        "\n",
        "# # Evaluate the model\n",
        "y_pred = best_model.predict(dtest)\n",
        "# accuracy = accuracy_score(y_test_resampled, y_pred)\n",
        "\n",
        "# # Display results\n",
        "# #print(f'Best Hyperparameters: {best_params}')\n",
        "# print(f'Accuracy: {accuracy}')\n"
      ]
    },
    {
      "cell_type": "code",
      "source": [
        "#X_test_resampled, y_test_resampled = SMOTE().fit_resample(X_test_encoded, y_test)\n",
        "#dtest = xgb.DMatrix(data=X_test_resampled, label= y_test_resampled)\n"
      ],
      "metadata": {
        "id": "veEiHxIS_MC4"
      },
      "execution_count": null,
      "outputs": []
    },
    {
      "cell_type": "code",
      "execution_count": null,
      "metadata": {
        "id": "E4yKbXl4J4yX"
      },
      "outputs": [],
      "source": [
        "# best_model.save_model('xgboost_model.json')\n"
      ]
    },
    {
      "cell_type": "code",
      "execution_count": null,
      "metadata": {
        "id": "LTEDP8h0eeQ9"
      },
      "outputs": [],
      "source": [
        "# # Create the parameter grid: gbm_param_grid\n",
        "# gbm_param_grid = {\n",
        "#     'n_estimators': [25],\n",
        "#     'max_depth': range(2, 12)\n",
        "# }\n",
        "\n",
        "# # Instantiate the regressor: gbm\n",
        "# gbm = xgb.XGBRegressor(n_estimators=10)\n",
        "\n",
        "# # Perform random search: grid_mse\n",
        "# randomized_mse = RandomizedSearchCV(param_distributions=gbm_param_grid, estimator=gbm, scoring=\"roc_auc\", n_iter=5, cv=4, verbose=1)\n",
        "\n",
        "\n",
        "# # Fit randomized_mse to the data\n",
        "# randomized_mse.fit(X_train_encoded, y_train_small)\n",
        "\n",
        "# best_params = randomized_mse.best_params_\n",
        "\n",
        "# # Train the model with the best hyperparameters\n",
        "# best_model = xgb.XGBClassifier(**best_params, verbosity=2)\n",
        "# best_model.fit(X_train_encoded, y_train_small)\n",
        "\n",
        "# # Print the best parameters and lowest RMSE\n",
        "# print(\"Best parameters found: \", randomized_mse.best_params_)\n",
        "# print(\"Lowest RMSE found: \", np.sqrt(np.abs(randomized_mse.best_score_)))"
      ]
    },
    {
      "cell_type": "code",
      "execution_count": null,
      "metadata": {
        "id": "G9uqzVaStJ3H"
      },
      "outputs": [],
      "source": [
        "# feature_importance = feature_importances = model.get_score(importance_type='weight')\n"
      ]
    },
    {
      "cell_type": "code",
      "execution_count": null,
      "metadata": {
        "id": "Nmam6ZZ1KHS9"
      },
      "outputs": [],
      "source": [
        "# # Assuming 'threshold' is a chosen threshold for feature importance\n",
        "# threshold = 10\n",
        "# relevant_features = [feature for feature, score in feature_importances.items() if score >= threshold]\n",
        "\n",
        "# # Filter out irrelevant features\n",
        "# X_train_filtered = X_train[relevant_features]\n",
        "# X_test_filtered = X_test[relevant_features]\n"
      ]
    },
    {
      "cell_type": "code",
      "execution_count": null,
      "metadata": {
        "id": "kmF4zjDLRQj4"
      },
      "outputs": [],
      "source": [
        "# dtrain = xgb.DMatrix(data=X_train_filtered, label= y_train, enable_categorical=True)\n",
        "# dtest = xgb.DMatrix(data=X_test_filtered, label= y_test, enable_categorical=True)\n",
        "\n",
        "# category_col = [cat_col]\n",
        "\n",
        "# dtrain.set_info(feature_types=[('f' if col in category_col else 'q') for col in X_train.columns])\n",
        "# #dtest.set_info(feature_types=[('f' if col in category_col else 'q') for col in X_test.columns])\n",
        "\n",
        "# params = {'objective': 'binary:logistic', 'eval_metric': 'logloss'}\n",
        "\n",
        "# #params = {'objective': 'binary:logistic', 'eval_metric': 'logloss', 'colsample_bytree': 0.8, 'learning_rate': 0.1, 'max_depth': 3, 'min_child_weight': 1, 'subsample': 1.0}\n",
        "\n",
        "# model = xgb.train(params, dtrain, num_boost_round=100)"
      ]
    },
    {
      "cell_type": "code",
      "execution_count": null,
      "metadata": {
        "id": "FaPIs41RuaXS"
      },
      "outputs": [],
      "source": [
        "# # 'importance_scores' is the dictionary obtained from model.get_score()\n",
        "# importance_scores = model.get_score()\n",
        "\n",
        "# # # Sort the featuresby importance score in descending order\n",
        "# sorted_scores = sorted(importance_scores.items(), key=lambda x: x[1], reverse=True)\n",
        "# features, scores = zip(*sorted_scores)\n",
        "\n",
        "# # Create a bar plot\n",
        "# plt.figure(figsize=(10, 6))\n",
        "# plt.bar(features, scores)\n",
        "# plt.xlabel('Features')\n",
        "# plt.ylabel('Importance Score')\n",
        "# plt.title('Feature Importance')\n",
        "# plt.xticks(rotation=45)\n",
        "# plt.show()\n"
      ]
    },
    {
      "cell_type": "code",
      "execution_count": 42,
      "metadata": {
        "colab": {
          "base_uri": "https://localhost:8080/"
        },
        "id": "2MDGQAZzvxF3",
        "outputId": "248f8660-d378-4416-c762-bc6d37c7b7ca"
      },
      "outputs": [
        {
          "output_type": "stream",
          "name": "stdout",
          "text": [
            "Accuracy: 0.5000179536795069\n",
            "Classification Report:\n",
            "              precision    recall  f1-score   support\n",
            "\n",
            "           0       0.52      0.00      0.00    250645\n",
            "           1       0.50      1.00      0.67    250645\n",
            "\n",
            "    accuracy                           0.50    501290\n",
            "   macro avg       0.51      0.50      0.33    501290\n",
            "weighted avg       0.51      0.50      0.33    501290\n",
            "\n"
          ]
        }
      ],
      "source": [
        "from sklearn.metrics import accuracy_score, classification_report\n",
        "\n",
        "y_pred = best_model.predict(dtest)\n",
        "\n",
        "# Convert predicted probabilities to binary predictions (0 or 1)\n",
        "y_pred_binary = [1 if p > 0.3 else 0 for p in y_pred]\n",
        "\n",
        "# Evaluate model performance\n",
        "accuracy = accuracy_score(y_test_resampled, y_pred_binary)\n",
        "report = classification_report(y_test_resampled, y_pred_binary)\n",
        "\n",
        "# Display results\n",
        "print(f'Accuracy: {accuracy}')\n",
        "print('Classification Report:')\n",
        "print(report)"
      ]
    },
    {
      "cell_type": "markdown",
      "metadata": {
        "id": "muhlkhvGXgvt"
      },
      "source": [
        "Identify categorical variables less than 20 number of uniques values using LabelEncoder and Target encoder for the categorical variable that more than 20 number of unique values.\n"
      ]
    },
    {
      "cell_type": "code",
      "execution_count": null,
      "metadata": {
        "id": "1PDN9bLh1RFj"
      },
      "outputs": [],
      "source": [
        "\n",
        "# unique_cat_val_count = X[cat_col].nunique()\n",
        "# cat_val_less_20 = unique_cat_val_count[unique_cat_val_count < 20].index.tolist()\n",
        "# cat_val_grter_20 = unique_cat_val_count[unique_cat_val_count > 20].index.tolist()"
      ]
    },
    {
      "cell_type": "code",
      "execution_count": null,
      "metadata": {
        "id": "a5-WZkw2X-6w"
      },
      "outputs": [],
      "source": [
        "# X[cat_val_less_20].nunique()"
      ]
    },
    {
      "cell_type": "code",
      "execution_count": null,
      "metadata": {
        "id": "DPys4ZrefEpI"
      },
      "outputs": [],
      "source": [
        "# Encoding categorical variable less than 20 using OneHotENcoder\n",
        "# X = pd.get_dummies(X, columns=cat_val_less_20)"
      ]
    },
    {
      "cell_type": "code",
      "execution_count": null,
      "metadata": {
        "id": "UxjQytwUgOSF"
      },
      "outputs": [],
      "source": [
        "# y_data"
      ]
    },
    {
      "cell_type": "code",
      "execution_count": null,
      "metadata": {
        "id": "H2K8U9Komo6z"
      },
      "outputs": [],
      "source": [
        "# cat_val_grter_20"
      ]
    },
    {
      "cell_type": "code",
      "execution_count": null,
      "metadata": {
        "id": "qx6ewqu3g9no"
      },
      "outputs": [],
      "source": [
        "# # Categorical variable greater than 20 using frequency encoder\n",
        "# val_grter_20 = X[cat_val_grter_20].value_counts(normalize=True)\n",
        "# X['Cat_grter_20_freq'] = X[cat_val_grter_20].apply(lambda x: val_grter_20[x])"
      ]
    },
    {
      "cell_type": "code",
      "execution_count": null,
      "metadata": {
        "id": "CGvXeBfFsFN6"
      },
      "outputs": [],
      "source": []
    },
    {
      "cell_type": "code",
      "execution_count": null,
      "metadata": {
        "id": "-ix7NnRPsXR2"
      },
      "outputs": [],
      "source": [
        "# X_train, X_test, y_train, y_test = train_test_split(X, y, test_size=0.3)"
      ]
    },
    {
      "cell_type": "code",
      "execution_count": null,
      "metadata": {
        "id": "1el3ryR6qUID"
      },
      "outputs": [],
      "source": [
        "# model = xgb()\n",
        "# xgb.train()"
      ]
    },
    {
      "cell_type": "code",
      "execution_count": null,
      "metadata": {
        "id": "kAkUFtBGFRwA"
      },
      "outputs": [],
      "source": []
    },
    {
      "cell_type": "code",
      "execution_count": null,
      "metadata": {
        "id": "IibEXKvnFSW8"
      },
      "outputs": [],
      "source": [
        "\n"
      ]
    }
  ],
  "metadata": {
    "colab": {
      "provenance": [],
      "authorship_tag": "ABX9TyNRkeiC5Tu7IcQOYlrTU4za",
      "include_colab_link": true
    },
    "kernelspec": {
      "display_name": "Python 3",
      "name": "python3"
    },
    "language_info": {
      "name": "python"
    }
  },
  "nbformat": 4,
  "nbformat_minor": 0
}